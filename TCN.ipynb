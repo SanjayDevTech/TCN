{
  "cells": [
    {
      "cell_type": "markdown",
      "metadata": {
        "id": "view-in-github",
        "colab_type": "text"
      },
      "source": [
        "<a href=\"https://colab.research.google.com/github/SanjayDevTech/TCN/blob/main/TCN.ipynb\" target=\"_parent\"><img src=\"https://colab.research.google.com/assets/colab-badge.svg\" alt=\"Open In Colab\"/></a>"
      ]
    },
    {
      "cell_type": "code",
      "execution_count": null,
      "metadata": {
        "colab": {
          "base_uri": "https://localhost:8080/"
        },
        "id": "hPHXWmYxhqhK",
        "outputId": "243b220f-bb8c-4bf6-b6a9-c0fb8ddbb8c0"
      },
      "outputs": [
        {
          "output_type": "stream",
          "name": "stdout",
          "text": [
            "Mounted at /gdrive\n"
          ]
        }
      ],
      "source": [
        "from google.colab import drive\n",
        "drive.mount('/gdrive')"
      ]
    },
    {
      "cell_type": "code",
      "execution_count": null,
      "metadata": {
        "colab": {
          "base_uri": "https://localhost:8080/"
        },
        "id": "xOnHskrAV-Sq",
        "outputId": "ccbf3b2a-64c8-4a34-9447-7599da7394a6"
      },
      "outputs": [
        {
          "output_type": "stream",
          "name": "stdout",
          "text": [
            "\u001b[33mWARNING: Skipping tensorflow-io as it is not installed.\u001b[0m\u001b[33m\n",
            "\u001b[2K     \u001b[90m━━━━━━━━━━━━━━━━━━━━━━━━━━━━━━━━━━━━━━━\u001b[0m \u001b[32m588.3/588.3 MB\u001b[0m \u001b[31m2.5 MB/s\u001b[0m eta \u001b[36m0:00:00\u001b[0m\n",
            "\u001b[2K     \u001b[90m━━━━━━━━━━━━━━━━━━━━━━━━━━━━━━━━━━━━━━━━\u001b[0m \u001b[32m1.7/1.7 MB\u001b[0m \u001b[31m94.6 MB/s\u001b[0m eta \u001b[36m0:00:00\u001b[0m\n",
            "\u001b[2K     \u001b[90m━━━━━━━━━━━━━━━━━━━━━━━━━━━━━━━━━━━━━━\u001b[0m \u001b[32m439.2/439.2 KB\u001b[0m \u001b[31m49.3 MB/s\u001b[0m eta \u001b[36m0:00:00\u001b[0m\n",
            "\u001b[2K     \u001b[90m━━━━━━━━━━━━━━━━━━━━━━━━━━━━━━━━━━━━━━━━\u001b[0m \u001b[32m6.0/6.0 MB\u001b[0m \u001b[31m117.1 MB/s\u001b[0m eta \u001b[36m0:00:00\u001b[0m\n",
            "\u001b[2K     \u001b[90m━━━━━━━━━━━━━━━━━━━━━━━━━━━━━━━━━━━━━━━━\u001b[0m \u001b[32m26.9/26.9 MB\u001b[0m \u001b[31m57.6 MB/s\u001b[0m eta \u001b[36m0:00:00\u001b[0m\n",
            "\u001b[?25h"
          ]
        }
      ],
      "source": [
        "!pip uninstall tensorflow tensorflow-io -y -q\n",
        "!pip install tensorflow -q\n",
        "!pip install --no-deps tensorflow-io -q"
      ]
    },
    {
      "cell_type": "code",
      "source": [
        "!pip install gdown"
      ],
      "metadata": {
        "id": "bjlA0yp4wqVE"
      },
      "execution_count": null,
      "outputs": []
    },
    {
      "cell_type": "code",
      "source": [
        "import gdown\n",
        "gdown.download(id=\"1-1Nr7PpqUaB5j2n38wSALUB1I1vc4hsn\", output=\"mfcc_features_labels.csv\")"
      ],
      "metadata": {
        "colab": {
          "base_uri": "https://localhost:8080/",
          "height": 105
        },
        "id": "QbpZb2nDw7Hd",
        "outputId": "9d1e3df4-766d-4d83-b782-dcbc19131d28"
      },
      "execution_count": null,
      "outputs": [
        {
          "output_type": "stream",
          "name": "stderr",
          "text": [
            "Downloading...\n",
            "From: https://drive.google.com/uc?id=1-1Nr7PpqUaB5j2n38wSALUB1I1vc4hsn\n",
            "To: /content/mfcc_features_labels.csv\n",
            "100%|██████████| 94.3M/94.3M [00:01<00:00, 62.9MB/s]\n"
          ]
        },
        {
          "output_type": "execute_result",
          "data": {
            "text/plain": [
              "'mfcc_features_labels.csv'"
            ],
            "application/vnd.google.colaboratory.intrinsic+json": {
              "type": "string"
            }
          },
          "metadata": {},
          "execution_count": 5
        }
      ]
    },
    {
      "cell_type": "code",
      "source": [
        "import gdown\n",
        "gdown.download(id=\"1X3FlW6veRjYde-onNYngbrI3udOPWO0K\", output=\"checkpoint.zip\")\n",
        "!unzip checkpoint"
      ],
      "metadata": {
        "colab": {
          "base_uri": "https://localhost:8080/"
        },
        "outputId": "06077599-2374-43c8-fb05-f44ffe025da9",
        "id": "fkfJxmdCSZbT"
      },
      "execution_count": null,
      "outputs": [
        {
          "output_type": "stream",
          "name": "stderr",
          "text": [
            "Downloading...\n",
            "From: https://drive.google.com/uc?id=1X3FlW6veRjYde-onNYngbrI3udOPWO0K\n",
            "To: /content/checkpoint.zip\n",
            "100%|██████████| 15.8M/15.8M [00:00<00:00, 177MB/s]\n"
          ]
        },
        {
          "output_type": "stream",
          "name": "stdout",
          "text": [
            "Archive:  checkpoint.zip\n",
            "  inflating: checkpoint/checkpoint   \n",
            "  inflating: checkpoint/model.ckpt.data-00000-of-00001  \n",
            "  inflating: checkpoint/model.ckpt.index  \n"
          ]
        }
      ]
    },
    {
      "cell_type": "code",
      "execution_count": null,
      "metadata": {
        "id": "4cuqVmSWgi6r"
      },
      "outputs": [],
      "source": [
        "from sklearn.preprocessing import MinMaxScaler\n",
        "from sklearn.model_selection import train_test_split\n",
        "from keras.utils import to_categorical\n",
        "import time\n",
        "import librosa\n",
        "import numpy as np\n",
        "import pandas as pd\n",
        "import os\n",
        "from tqdm.notebook import tqdm"
      ]
    },
    {
      "cell_type": "code",
      "source": [
        "df = pd.read_csv(\"mfcc_features_labels.csv\")"
      ],
      "metadata": {
        "id": "gMYE4Zr4vyGv"
      },
      "execution_count": null,
      "outputs": []
    },
    {
      "cell_type": "code",
      "source": [
        "classes = df[\"labels\"].unique()\n",
        "classes.sort()\n",
        "classes = list(classes)\n",
        "class_to_id = dict([(x, i) for (i, x) in enumerate(classes)])\n",
        "id_to_class = dict(enumerate(classes))"
      ],
      "metadata": {
        "id": "e4ReyyQDEeAv"
      },
      "execution_count": null,
      "outputs": []
    },
    {
      "cell_type": "code",
      "source": [
        "!pip show pip"
      ],
      "metadata": {
        "id": "tjG6uXO8zbqs"
      },
      "execution_count": null,
      "outputs": []
    },
    {
      "cell_type": "code",
      "source": [
        "classes"
      ],
      "metadata": {
        "colab": {
          "base_uri": "https://localhost:8080/"
        },
        "id": "5UZC17LEvTVa",
        "outputId": "b688859b-6480-42c9-e569-d51b33bc0760"
      },
      "execution_count": null,
      "outputs": [
        {
          "output_type": "execute_result",
          "data": {
            "text/plain": [
              "['angry', 'calm', 'disgust', 'fear', 'happy', 'neutral', 'sad', 'surprise']"
            ]
          },
          "metadata": {},
          "execution_count": 83
        }
      ]
    },
    {
      "cell_type": "code",
      "source": [
        "classes[4]"
      ],
      "metadata": {
        "id": "jQ69H_RAqWvC",
        "outputId": "5be18a17-5288-4f0a-fa60-a568e462975d",
        "colab": {
          "base_uri": "https://localhost:8080/",
          "height": 36
        }
      },
      "execution_count": null,
      "outputs": [
        {
          "output_type": "execute_result",
          "data": {
            "text/plain": [
              "'happy'"
            ],
            "application/vnd.google.colaboratory.intrinsic+json": {
              "type": "string"
            }
          },
          "metadata": {},
          "execution_count": 40
        }
      ]
    },
    {
      "cell_type": "code",
      "source": [
        "mfcc = df.iloc[: , :58].to_numpy()\n",
        "labels = df[\"labels\"]\n",
        "y = np.array([class_to_id[i] for i in labels])"
      ],
      "metadata": {
        "id": "7A3XFULoxR1J"
      },
      "execution_count": null,
      "outputs": []
    },
    {
      "cell_type": "code",
      "source": [
        "x_train, x_test, y_train, y_test = train_test_split(mfcc,y,\n",
        "                                                    test_size=0.2,\n",
        "                                                    shuffle=True,\n",
        "                                                    random_state=42)"
      ],
      "metadata": {
        "id": "-RoowbVvHRKe"
      },
      "execution_count": null,
      "outputs": []
    },
    {
      "cell_type": "code",
      "source": [
        "scaler = MinMaxScaler(feature_range=(0,1))"
      ],
      "metadata": {
        "id": "aIsCJjwjHW2y"
      },
      "execution_count": null,
      "outputs": []
    },
    {
      "cell_type": "code",
      "source": [
        "import joblib"
      ],
      "metadata": {
        "id": "wHJVAdKfKow0"
      },
      "execution_count": null,
      "outputs": []
    },
    {
      "cell_type": "code",
      "source": [
        "scaler = joblib.load(\"mfcc_features_scaler.joblib\")"
      ],
      "metadata": {
        "id": "_NOSinKJKcaS"
      },
      "execution_count": null,
      "outputs": []
    },
    {
      "cell_type": "code",
      "source": [
        "scaler.fit(x_train)\n",
        "x_train = scaler.transform(x_train)\n",
        "x_test = scaler.transform(x_test)\n",
        "joblib.dump(scaler, \"mfcc_features_scaler.joblib\")"
      ],
      "metadata": {
        "colab": {
          "base_uri": "https://localhost:8080/"
        },
        "id": "mzcpLR65Hh3H",
        "outputId": "bf5247cd-3f62-4afa-edfa-82b768f71335"
      },
      "execution_count": null,
      "outputs": [
        {
          "output_type": "execute_result",
          "data": {
            "text/plain": [
              "['mfcc_features_scaler.joblib']"
            ]
          },
          "metadata": {},
          "execution_count": 14
        }
      ]
    },
    {
      "cell_type": "code",
      "source": [
        "x_train.shape"
      ],
      "metadata": {
        "colab": {
          "base_uri": "https://localhost:8080/"
        },
        "id": "_fWv0dkS-eYg",
        "outputId": "d04ab441-de02-4a7b-e660-2996718a2d39"
      },
      "execution_count": null,
      "outputs": [
        {
          "output_type": "execute_result",
          "data": {
            "text/plain": [
              "(68107, 58)"
            ]
          },
          "metadata": {},
          "execution_count": 12
        }
      ]
    },
    {
      "cell_type": "code",
      "source": [
        "x_train = np.expand_dims(x_train, axis=2)\n",
        "x_test = np.expand_dims(x_test, axis=2)\n",
        "x_train = x_train.astype('float32')\n",
        "x_test = x_test.astype('float32')"
      ],
      "metadata": {
        "id": "BxGuTQdKHqw3"
      },
      "execution_count": null,
      "outputs": []
    },
    {
      "cell_type": "code",
      "source": [
        "import inspect\n",
        "from typing import List\n",
        "\n",
        "from keras import backend as K, Model, Input, optimizers\n",
        "from keras import layers\n",
        "from keras.layers import Activation, SpatialDropout1D, Lambda\n",
        "from keras.layers import Layer, Conv1D, Dense, BatchNormalization, LayerNormalization\n",
        "\n",
        "\n",
        "def is_power_of_two(num: int):\n",
        "    return num != 0 and ((num & (num - 1)) == 0)\n",
        "\n",
        "\n",
        "def adjust_dilations(dilations: list):\n",
        "    if all([is_power_of_two(i) for i in dilations]):\n",
        "        return dilations\n",
        "    else:\n",
        "        new_dilations = [2 ** i for i in dilations]\n",
        "        return new_dilations\n",
        "\n",
        "\n",
        "class ResidualBlock(Layer):\n",
        "\n",
        "    def __init__(self,\n",
        "                 dilation_rate: int,\n",
        "                 nb_filters: int,\n",
        "                 kernel_size: int,\n",
        "                 padding: str,\n",
        "                 activation: str = 'relu',\n",
        "                 dropout_rate: float = 0,\n",
        "                 kernel_initializer: str = 'he_normal',\n",
        "                 use_batch_norm: bool = False,\n",
        "                 use_layer_norm: bool = False,\n",
        "                 use_weight_norm: bool = False,\n",
        "                 **kwargs):\n",
        "        \"\"\"Defines the residual block for the WaveNet TCN\n",
        "        Args:\n",
        "            x: The previous layer in the model\n",
        "            training: boolean indicating whether the layer should behave in training mode or in inference mode\n",
        "            dilation_rate: The dilation power of 2 we are using for this residual block\n",
        "            nb_filters: The number of convolutional filters to use in this block\n",
        "            kernel_size: The size of the convolutional kernel\n",
        "            padding: The padding used in the convolutional layers, 'same' or 'causal'.\n",
        "            activation: The final activation used in o = Activation(x + F(x))\n",
        "            dropout_rate: Float between 0 and 1. Fraction of the input units to drop.\n",
        "            kernel_initializer: Initializer for the kernel weights matrix (Conv1D).\n",
        "            use_batch_norm: Whether to use batch normalization in the residual layers or not.\n",
        "            use_layer_norm: Whether to use layer normalization in the residual layers or not.\n",
        "            use_weight_norm: Whether to use weight normalization in the residual layers or not.\n",
        "            kwargs: Any initializers for Layer class.\n",
        "        \"\"\"\n",
        "\n",
        "        self.dilation_rate = dilation_rate\n",
        "        self.nb_filters = nb_filters\n",
        "        self.kernel_size = kernel_size\n",
        "        self.padding = padding\n",
        "        self.activation = activation\n",
        "        self.dropout_rate = dropout_rate\n",
        "        self.use_batch_norm = use_batch_norm\n",
        "        self.use_layer_norm = use_layer_norm\n",
        "        self.use_weight_norm = use_weight_norm\n",
        "        self.kernel_initializer = kernel_initializer\n",
        "        self.layers = []\n",
        "        self.layers_outputs = []\n",
        "        self.shape_match_conv = None\n",
        "        self.res_output_shape = None\n",
        "        self.final_activation = None\n",
        "\n",
        "        super(ResidualBlock, self).__init__(**kwargs)\n",
        "\n",
        "    def _build_layer(self, layer):\n",
        "        \"\"\"Helper function for building layer\n",
        "        Args:\n",
        "            layer: Appends layer to internal layer list and builds it based on the current output\n",
        "                   shape of ResidualBlocK. Updates current output shape.\n",
        "        \"\"\"\n",
        "        self.layers.append(layer)\n",
        "        self.layers[-1].build(self.res_output_shape)\n",
        "        self.res_output_shape = self.layers[-1].compute_output_shape(self.res_output_shape)\n",
        "\n",
        "    def build(self, input_shape):\n",
        "\n",
        "        with K.name_scope(self.name):  # name scope used to make sure weights get unique names\n",
        "            self.layers = []\n",
        "            self.res_output_shape = input_shape\n",
        "\n",
        "            for k in range(2):\n",
        "                name = 'conv1D_{}'.format(k)\n",
        "                with K.name_scope(name):  # name scope used to make sure weights get unique names\n",
        "                    conv = Conv1D(\n",
        "                        filters=self.nb_filters,\n",
        "                        kernel_size=self.kernel_size,\n",
        "                        dilation_rate=self.dilation_rate,\n",
        "                        padding=self.padding,\n",
        "                        name=name,\n",
        "                        kernel_initializer=self.kernel_initializer\n",
        "                    )\n",
        "                    if self.use_weight_norm:\n",
        "                        from tensorflow_addons.layers import WeightNormalization\n",
        "                        # wrap it. WeightNormalization API is different than BatchNormalization or LayerNormalization.\n",
        "                        with K.name_scope('norm_{}'.format(k)):\n",
        "                            conv = WeightNormalization(conv)\n",
        "                    self._build_layer(conv)\n",
        "\n",
        "                with K.name_scope('norm_{}'.format(k)):\n",
        "                    if self.use_batch_norm:\n",
        "                        self._build_layer(BatchNormalization())\n",
        "                    elif self.use_layer_norm:\n",
        "                        self._build_layer(LayerNormalization())\n",
        "                    elif self.use_weight_norm:\n",
        "                        pass  # done above.\n",
        "\n",
        "                self._build_layer(Activation(self.activation))\n",
        "                self._build_layer(SpatialDropout1D(rate=self.dropout_rate))\n",
        "\n",
        "            if self.nb_filters != input_shape[-1]:\n",
        "                # 1x1 conv to match the shapes (channel dimension).\n",
        "                name = 'matching_conv1D'\n",
        "                with K.name_scope(name):\n",
        "                    # make and build this layer separately because it directly uses input_shape\n",
        "                    self.shape_match_conv = Conv1D(filters=self.nb_filters,\n",
        "                                                   kernel_size=1,\n",
        "                                                   padding='same',\n",
        "                                                   name=name,\n",
        "                                                   kernel_initializer=self.kernel_initializer)\n",
        "            else:\n",
        "                name = 'matching_identity'\n",
        "                self.shape_match_conv = Lambda(lambda x: x, name=name)\n",
        "\n",
        "            with K.name_scope(name):\n",
        "                self.shape_match_conv.build(input_shape)\n",
        "                self.res_output_shape = self.shape_match_conv.compute_output_shape(input_shape)\n",
        "\n",
        "            self._build_layer(Activation(self.activation))\n",
        "            self.final_activation = Activation(self.activation)\n",
        "            self.final_activation.build(self.res_output_shape)  # probably isn't necessary\n",
        "\n",
        "            # this is done to force Keras to add the layers in the list to self._layers\n",
        "            for layer in self.layers:\n",
        "                self.__setattr__(layer.name, layer)\n",
        "            self.__setattr__(self.shape_match_conv.name, self.shape_match_conv)\n",
        "            self.__setattr__(self.final_activation.name, self.final_activation)\n",
        "\n",
        "            super(ResidualBlock, self).build(input_shape)  # done to make sure self.built is set True\n",
        "\n",
        "    def call(self, inputs, training=None):\n",
        "        \"\"\"\n",
        "        Returns: A tuple where the first element is the residual model tensor, and the second\n",
        "                 is the skip connection tensor.\n",
        "        \"\"\"\n",
        "        x = inputs\n",
        "        self.layers_outputs = [x]\n",
        "        for layer in self.layers:\n",
        "            training_flag = 'training' in dict(inspect.signature(layer.call).parameters)\n",
        "            x = layer(x, training=training) if training_flag else layer(x)\n",
        "            self.layers_outputs.append(x)\n",
        "        x2 = self.shape_match_conv(inputs)\n",
        "        self.layers_outputs.append(x2)\n",
        "        res_x = layers.add([x2, x])\n",
        "        self.layers_outputs.append(res_x)\n",
        "\n",
        "        res_act_x = self.final_activation(res_x)\n",
        "        self.layers_outputs.append(res_act_x)\n",
        "        return [res_act_x, x]\n",
        "\n",
        "    def compute_output_shape(self, input_shape):\n",
        "        return [self.res_output_shape, self.res_output_shape]\n",
        "\n",
        "\n",
        "class TCN(Layer):\n",
        "    \"\"\"Creates a TCN layer.\n",
        "        Input shape:\n",
        "            A tensor of shape (batch_size, timesteps, input_dim).\n",
        "        Args:\n",
        "            nb_filters: The number of filters to use in the convolutional layers. Can be a list.\n",
        "            kernel_size: The size of the kernel to use in each convolutional layer.\n",
        "            dilations: The list of the dilations. Example is: [1, 2, 4, 8, 16, 32, 64].\n",
        "            nb_stacks : The number of stacks of residual blocks to use.\n",
        "            padding: The padding to use in the convolutional layers, 'causal' or 'same'.\n",
        "            use_skip_connections: Boolean. If we want to add skip connections from input to each residual blocK.\n",
        "            return_sequences: Boolean. Whether to return the last output in the output sequence, or the full sequence.\n",
        "            activation: The activation used in the residual blocks o = Activation(x + F(x)).\n",
        "            dropout_rate: Float between 0 and 1. Fraction of the input units to drop.\n",
        "            kernel_initializer: Initializer for the kernel weights matrix (Conv1D).\n",
        "            use_batch_norm: Whether to use batch normalization in the residual layers or not.\n",
        "            kwargs: Any other arguments for configuring parent class Layer. For example \"name=str\", Name of the model.\n",
        "                    Use unique names when using multiple TCN.\n",
        "        Returns:\n",
        "            A TCN layer.\n",
        "        \"\"\"\n",
        "\n",
        "    def __init__(self,\n",
        "                 nb_filters=64,\n",
        "                 kernel_size=2,\n",
        "                 nb_stacks=1,\n",
        "                 dilations=(1, 2, 4, 8, 16, 32),\n",
        "                 padding='causal',\n",
        "                 use_skip_connections=False,\n",
        "                 dropout_rate=0.0,\n",
        "                 return_sequences=False,\n",
        "                 activation='relu',\n",
        "                 kernel_initializer='he_normal',\n",
        "                 use_batch_norm=False,\n",
        "                 use_layer_norm=False,\n",
        "                 use_weight_norm=False,\n",
        "                 **kwargs):\n",
        "\n",
        "        self.return_sequences = return_sequences\n",
        "        self.dropout_rate = dropout_rate\n",
        "        self.use_skip_connections = use_skip_connections\n",
        "        self.dilations = dilations\n",
        "        self.nb_stacks = nb_stacks\n",
        "        self.kernel_size = kernel_size\n",
        "        self.nb_filters = nb_filters\n",
        "        self.activation = activation\n",
        "        self.padding = padding\n",
        "        self.kernel_initializer = kernel_initializer\n",
        "        self.use_batch_norm = use_batch_norm\n",
        "        self.use_layer_norm = use_layer_norm\n",
        "        self.use_weight_norm = use_weight_norm\n",
        "        self.skip_connections = []\n",
        "        self.residual_blocks = []\n",
        "        self.layers_outputs = []\n",
        "        self.build_output_shape = None\n",
        "        self.slicer_layer = None  # in case return_sequence=False\n",
        "        self.output_slice_index = None  # in case return_sequence=False\n",
        "        self.padding_same_and_time_dim_unknown = False  # edge case if padding='same' and time_dim = None\n",
        "\n",
        "        if self.use_batch_norm + self.use_layer_norm + self.use_weight_norm > 1:\n",
        "            raise ValueError('Only one normalization can be specified at once.')\n",
        "\n",
        "        if isinstance(self.nb_filters, list):\n",
        "            assert len(self.nb_filters) == len(self.dilations)\n",
        "\n",
        "        if padding != 'causal' and padding != 'same':\n",
        "            raise ValueError(\"Only 'causal' or 'same' padding are compatible for this layer.\")\n",
        "\n",
        "        # initialize parent class\n",
        "        super(TCN, self).__init__(**kwargs)\n",
        "\n",
        "    @property\n",
        "    def receptive_field(self):\n",
        "        assert_msg = 'The receptive field formula works only with power of two dilations.'\n",
        "        assert all([is_power_of_two(i) for i in self.dilations]), assert_msg\n",
        "        return self.kernel_size * self.nb_stacks * self.dilations[-1]\n",
        "\n",
        "    def build(self, input_shape):\n",
        "\n",
        "        # member to hold current output shape of the layer for building purposes\n",
        "        self.build_output_shape = input_shape\n",
        "\n",
        "        # list to hold all the member ResidualBlocks\n",
        "        self.residual_blocks = []\n",
        "        total_num_blocks = self.nb_stacks * len(self.dilations)\n",
        "        if not self.use_skip_connections:\n",
        "            total_num_blocks += 1  # cheap way to do a false case for below\n",
        "\n",
        "        for s in range(self.nb_stacks):\n",
        "            for i, d in enumerate(self.dilations):\n",
        "                res_block_filters = self.nb_filters[i] if isinstance(self.nb_filters, list) else self.nb_filters\n",
        "                self.residual_blocks.append(ResidualBlock(dilation_rate=d,\n",
        "                                                          nb_filters=res_block_filters,\n",
        "                                                          kernel_size=self.kernel_size,\n",
        "                                                          padding=self.padding,\n",
        "                                                          activation=self.activation,\n",
        "                                                          dropout_rate=self.dropout_rate,\n",
        "                                                          use_batch_norm=self.use_batch_norm,\n",
        "                                                          use_layer_norm=self.use_layer_norm,\n",
        "                                                          use_weight_norm=self.use_weight_norm,\n",
        "                                                          kernel_initializer=self.kernel_initializer,\n",
        "                                                          name='residual_block_{}'.format(len(self.residual_blocks))))\n",
        "                # build newest residual block\n",
        "                self.residual_blocks[-1].build(self.build_output_shape)\n",
        "                self.build_output_shape = self.residual_blocks[-1].res_output_shape\n",
        "\n",
        "        # this is done to force keras to add the layers in the list to self._layers\n",
        "        for layer in self.residual_blocks:\n",
        "            self.__setattr__(layer.name, layer)\n",
        "\n",
        "        self.output_slice_index = None\n",
        "        if self.padding == 'same':\n",
        "            time = self.build_output_shape.as_list()[1]\n",
        "            if time is not None:  # if time dimension is defined. e.g. shape = (bs, 500, input_dim).\n",
        "                self.output_slice_index = int(self.build_output_shape.as_list()[1] / 2)\n",
        "            else:\n",
        "                # It will known at call time. c.f. self.call.\n",
        "                self.padding_same_and_time_dim_unknown = True\n",
        "\n",
        "        else:\n",
        "            self.output_slice_index = -1  # causal case.\n",
        "        self.slicer_layer = Lambda(lambda tt: tt[:, self.output_slice_index, :])\n",
        "\n",
        "    def compute_output_shape(self, input_shape):\n",
        "        \"\"\"\n",
        "        Overridden in case keras uses it somewhere... no idea. Just trying to avoid future errors.\n",
        "        \"\"\"\n",
        "        if not self.built:\n",
        "            self.build(input_shape)\n",
        "        if not self.return_sequences:\n",
        "            batch_size = self.build_output_shape[0]\n",
        "            batch_size = batch_size.value if hasattr(batch_size, 'value') else batch_size\n",
        "            nb_filters = self.build_output_shape[-1]\n",
        "            return [batch_size, nb_filters]\n",
        "        else:\n",
        "            # Compatibility tensorflow 1.x\n",
        "            return [v.value if hasattr(v, 'value') else v for v in self.build_output_shape]\n",
        "\n",
        "    def call(self, inputs, training=None):\n",
        "        x = inputs\n",
        "        self.layers_outputs = [x]\n",
        "        self.skip_connections = []\n",
        "        for layer in self.residual_blocks:\n",
        "            try:\n",
        "                x, skip_out = layer(x, training=training)\n",
        "            except TypeError:  # compatibility with tensorflow 1.x\n",
        "                x, skip_out = layer(K.cast(x, 'float32'), training=training)\n",
        "            self.skip_connections.append(skip_out)\n",
        "            self.layers_outputs.append(x)\n",
        "\n",
        "        if self.use_skip_connections:\n",
        "            x = layers.add(self.skip_connections)\n",
        "            self.layers_outputs.append(x)\n",
        "\n",
        "        if not self.return_sequences:\n",
        "            # case: time dimension is unknown. e.g. (bs, None, input_dim).\n",
        "            if self.padding_same_and_time_dim_unknown:\n",
        "                self.output_slice_index = K.shape(self.layers_outputs[-1])[1] // 2\n",
        "            x = self.slicer_layer(x)\n",
        "            self.layers_outputs.append(x)\n",
        "        return x\n",
        "\n",
        "    def get_config(self):\n",
        "        \"\"\"\n",
        "        Returns the config of a the layer. This is used for saving and loading from a model\n",
        "        :return: python dictionary with specs to rebuild layer\n",
        "        \"\"\"\n",
        "        config = super(TCN, self).get_config()\n",
        "        config['nb_filters'] = self.nb_filters\n",
        "        config['kernel_size'] = self.kernel_size\n",
        "        config['nb_stacks'] = self.nb_stacks\n",
        "        config['dilations'] = self.dilations\n",
        "        config['padding'] = self.padding\n",
        "        config['use_skip_connections'] = self.use_skip_connections\n",
        "        config['dropout_rate'] = self.dropout_rate\n",
        "        config['return_sequences'] = self.return_sequences\n",
        "        config['activation'] = self.activation\n",
        "        config['use_batch_norm'] = self.use_batch_norm\n",
        "        config['use_layer_norm'] = self.use_layer_norm\n",
        "        config['use_weight_norm'] = self.use_weight_norm\n",
        "        config['kernel_initializer'] = self.kernel_initializer\n",
        "        return config\n",
        "\n",
        "\n",
        "def compiled_tcn(num_feat,  # type: int\n",
        "                 num_classes,  # type: int\n",
        "                 nb_filters,  # type: int\n",
        "                 kernel_size,  # type: int\n",
        "                 dilations,  # type: List[int]\n",
        "                 nb_stacks,  # type: int\n",
        "                 max_len,  # type: int\n",
        "                 output_len=1,  # type: int\n",
        "                 padding='causal',  # type: str\n",
        "                 use_skip_connections=False,  # type: bool\n",
        "                 return_sequences=True,\n",
        "                 regression=False,  # type: bool\n",
        "                 dropout_rate=0.05,  # type: float\n",
        "                 name='tcn',  # type: str\n",
        "                 kernel_initializer='he_normal',  # type: str\n",
        "                 activation='relu',  # type:str\n",
        "                 opt='adam',\n",
        "                 lr=0.002,\n",
        "                 use_batch_norm=False,\n",
        "                 use_layer_norm=False,\n",
        "                 use_weight_norm=False):\n",
        "    # type: (...) -> Model\n",
        "    \"\"\"Creates a compiled TCN model for a given task (i.e. regression or classification).\n",
        "    Classification uses a sparse categorical loss. Please input class ids and not one-hot encodings.\n",
        "    Args:\n",
        "        num_feat: The number of features of your input, i.e. the last dimension of: (batch_size, timesteps, input_dim).\n",
        "        num_classes: The size of the final dense layer, how many classes we are predicting.\n",
        "        nb_filters: The number of filters to use in the convolutional layers.\n",
        "        kernel_size: The size of the kernel to use in each convolutional layer.\n",
        "        dilations: The list of the dilations. Example is: [1, 2, 4, 8, 16, 32, 64].\n",
        "        nb_stacks : The number of stacks of residual blocks to use.\n",
        "        max_len: The maximum sequence length, use None if the sequence length is dynamic.\n",
        "        padding: The padding to use in the convolutional layers.\n",
        "        use_skip_connections: Boolean. If we want to add skip connections from input to each residual blocK.\n",
        "        return_sequences: Boolean. Whether to return the last output in the output sequence, or the full sequence.\n",
        "        regression: Whether the output should be continuous or discrete.\n",
        "        dropout_rate: Float between 0 and 1. Fraction of the input units to drop.\n",
        "        activation: The activation used in the residual blocks o = Activation(x + F(x)).\n",
        "        name: Name of the model. Useful when having multiple TCN.\n",
        "        kernel_initializer: Initializer for the kernel weights matrix (Conv1D).\n",
        "        opt: Optimizer name.\n",
        "        lr: Learning rate.\n",
        "        use_batch_norm: Whether to use batch normalization in the residual layers or not.\n",
        "        use_layer_norm: Whether to use layer normalization in the residual layers or not.\n",
        "        use_weight_norm: Whether to use weight normalization in the residual layers or not.\n",
        "    Returns:\n",
        "        A compiled keras TCN.\n",
        "    \"\"\"\n",
        "\n",
        "    dilations = adjust_dilations(dilations)\n",
        "\n",
        "    input_layer = Input(shape=(max_len, num_feat))\n",
        "\n",
        "    x = TCN(nb_filters, kernel_size, nb_stacks, dilations, padding,\n",
        "            use_skip_connections, dropout_rate, return_sequences,\n",
        "            activation, kernel_initializer, use_batch_norm, use_layer_norm,\n",
        "            use_weight_norm, name=name)(input_layer)\n",
        "\n",
        "    print('x.shape=', x.shape)\n",
        "\n",
        "    def get_opt():\n",
        "        if opt == 'adam':\n",
        "            return optimizers.Adam(lr=lr, clipnorm=1.)\n",
        "        elif opt == 'rmsprop':\n",
        "            return optimizers.RMSprop(lr=lr, clipnorm=1.)\n",
        "        else:\n",
        "            raise Exception('Only Adam and RMSProp are available here')\n",
        "\n",
        "    if not regression:\n",
        "        # classification\n",
        "        x = Dense(num_classes)(x)\n",
        "        x = Activation('softmax')(x)\n",
        "        output_layer = x\n",
        "        model = Model(input_layer, output_layer)\n",
        "\n",
        "        model.compile(get_opt(), loss='sparse_categorical_crossentropy', metrics=[\"accuracy\"])\n",
        "    else:\n",
        "        # regression\n",
        "        x = Dense(output_len)(x)\n",
        "        x = Activation('linear')(x)\n",
        "        output_layer = x\n",
        "        model = Model(input_layer, output_layer)\n",
        "        model.compile(get_opt(), loss='mean_squared_error')\n",
        "    print('model.x = {}'.format(input_layer.shape))\n",
        "    print('model.y = {}'.format(output_layer.shape))\n",
        "    return model\n",
        "\n",
        "\n"
      ],
      "metadata": {
        "id": "m-IyKW_8Hrrd"
      },
      "execution_count": null,
      "outputs": []
    },
    {
      "cell_type": "code",
      "source": [
        "def tcn_full_summary(model: Model, expand_residual_blocks=True):\n",
        "    layers = model.layers.copy()\n",
        "    model.layers.clear()\n",
        "\n",
        "    for i in range(len(layers)):\n",
        "        if isinstance(layers[i], TCN):\n",
        "            print(dir(layers[i]))\n",
        "            for layer in layers[i]._layers:\n",
        "                if not isinstance(layer, ResidualBlock):\n",
        "                    if not hasattr(layer, '__iter__'):\n",
        "                        model.layers.append(layer)\n",
        "                else:\n",
        "                    if expand_residual_blocks:\n",
        "                        for lyr in layer.layers:\n",
        "                            if not hasattr(lyr, '__iter__'):\n",
        "                                model.layers.append(lyr)\n",
        "                    else:\n",
        "                        model.layers.append(layer)\n",
        "        else:\n",
        "            model.layers.append(layers[i])\n",
        "\n",
        "    model.summary()\n",
        "    model.layers.clear()\n",
        "    [model.layers.append(lyr) for lyr in layers]"
      ],
      "metadata": {
        "id": "wTfYKKl1A9DI"
      },
      "execution_count": null,
      "outputs": []
    },
    {
      "cell_type": "code",
      "source": [],
      "metadata": {
        "id": "mF4qUm8MDweE"
      },
      "execution_count": null,
      "outputs": []
    },
    {
      "cell_type": "code",
      "source": [
        "x_train.shape[2]"
      ],
      "metadata": {
        "colab": {
          "base_uri": "https://localhost:8080/"
        },
        "id": "-qmurx1Y-pzG",
        "outputId": "8b2327db-156e-4451-c160-836178b169fa"
      },
      "execution_count": null,
      "outputs": [
        {
          "output_type": "execute_result",
          "data": {
            "text/plain": [
              "1"
            ]
          },
          "metadata": {},
          "execution_count": 14
        }
      ]
    },
    {
      "cell_type": "code",
      "source": [
        "model = compiled_tcn(return_sequences=False,\n",
        "                    num_feat=x_train.shape[2],\n",
        "                    num_classes=len(classes),\n",
        "                    nb_filters=128,\n",
        "                    kernel_size=9,\n",
        "                    dilations=[2 ** i for i in range(7)], \n",
        "                    nb_stacks=1,\n",
        "                    dropout_rate=0.3,\n",
        "                    use_batch_norm=False,\n",
        "                    max_len=x_train[0:1].shape[1],\n",
        "                    use_skip_connections=True,\n",
        "                    use_layer_norm=True,\n",
        "                    opt='adam')\n",
        "model.summary()"
      ],
      "metadata": {
        "id": "mdOEKdchHzTr",
        "colab": {
          "base_uri": "https://localhost:8080/"
        },
        "outputId": "3fdb9c2b-466c-40ff-bdcf-a7e38e3b66a6"
      },
      "execution_count": null,
      "outputs": [
        {
          "output_type": "stream",
          "name": "stdout",
          "text": [
            "x.shape= (None, 128)\n",
            "model.x = (None, 58, 1)\n",
            "model.y = (None, 8)\n",
            "Model: \"model_1\"\n",
            "_________________________________________________________________\n",
            " Layer (type)                Output Shape              Param #   \n",
            "=================================================================\n",
            " input_2 (InputLayer)        [(None, 58, 1)]           0         \n",
            "                                                                 \n",
            " tcn (TCN)                   (None, 128)               1923712   \n",
            "                                                                 \n",
            " dense_1 (Dense)             (None, 8)                 1032      \n",
            "                                                                 \n",
            " activation_1 (Activation)   (None, 8)                 0         \n",
            "                                                                 \n",
            "=================================================================\n",
            "Total params: 1,924,744\n",
            "Trainable params: 1,924,744\n",
            "Non-trainable params: 0\n",
            "_________________________________________________________________\n"
          ]
        },
        {
          "output_type": "stream",
          "name": "stderr",
          "text": [
            "/usr/local/lib/python3.8/dist-packages/keras/optimizers/optimizer_v2/adam.py:110: UserWarning: The `lr` argument is deprecated, use `learning_rate` instead.\n",
            "  super(Adam, self).__init__(name, **kwargs)\n"
          ]
        }
      ]
    },
    {
      "cell_type": "code",
      "source": [
        "model.load_weights(\"checkpoint/model.ckpt\")"
      ],
      "metadata": {
        "colab": {
          "base_uri": "https://localhost:8080/"
        },
        "id": "4hl0-bDMSdvh",
        "outputId": "e92b7f6d-d67b-4e7d-e4dc-2798bcde4d82"
      },
      "execution_count": null,
      "outputs": [
        {
          "output_type": "execute_result",
          "data": {
            "text/plain": [
              "<tensorflow.python.training.tracking.util.CheckpointLoadStatus at 0x7fa93ee29460>"
            ]
          },
          "metadata": {},
          "execution_count": 35
        }
      ]
    },
    {
      "cell_type": "code",
      "source": [
        "tcn_full_summary(model)"
      ],
      "metadata": {
        "id": "ABICyqfB-yrg"
      },
      "execution_count": null,
      "outputs": []
    },
    {
      "cell_type": "code",
      "source": [
        "from keras.callbacks import ModelCheckpoint, TensorBoard\n",
        "mc = ModelCheckpoint(\n",
        "    \"model.ckpt\",\n",
        "    monitor = 'val_accuracy',\n",
        "    verbose= 1,\n",
        "    save_best_only = True,\n",
        "    save_weights_only=True,\n",
        ")\n",
        "tfboard = TensorBoard(log_dir=\"logs/fit/\", histogram_freq=1)"
      ],
      "metadata": {
        "id": "WgErbrhIYD-z"
      },
      "execution_count": null,
      "outputs": []
    },
    {
      "cell_type": "code",
      "source": [
        "cnnhistory = model.fit(x_train, y_train,\n",
        "                        batch_size = 32,\n",
        "                        validation_data=(x_test, y_test),\n",
        "                        epochs = 250,\n",
        "                        callbacks=[mc, tfboard],\n",
        "                        verbose = 1)"
      ],
      "metadata": {
        "id": "qiHnsb58H5pG",
        "colab": {
          "base_uri": "https://localhost:8080/",
          "height": 1000
        },
        "outputId": "049382de-9313-463f-b3f1-e5cb692f1306"
      },
      "execution_count": null,
      "outputs": [
        {
          "output_type": "stream",
          "name": "stdout",
          "text": [
            "Epoch 1/250\n",
            "2129/2129 [==============================] - ETA: 0s - loss: 1.5719 - accuracy: 0.4019\n",
            "Epoch 1: val_accuracy improved from -inf to 0.52587, saving model to model.ckpt\n",
            "2129/2129 [==============================] - 71s 31ms/step - loss: 1.5719 - accuracy: 0.4019 - val_loss: 1.1768 - val_accuracy: 0.5259\n",
            "Epoch 2/250\n",
            "2127/2129 [============================>.] - ETA: 0s - loss: 1.1806 - accuracy: 0.5300\n",
            "Epoch 2: val_accuracy improved from 0.52587 to 0.55905, saving model to model.ckpt\n",
            "2129/2129 [==============================] - 62s 29ms/step - loss: 1.1804 - accuracy: 0.5301 - val_loss: 1.0851 - val_accuracy: 0.5591\n",
            "Epoch 3/250\n",
            "2127/2129 [============================>.] - ETA: 0s - loss: 1.0880 - accuracy: 0.5691\n",
            "Epoch 3: val_accuracy improved from 0.55905 to 0.59406, saving model to model.ckpt\n",
            "2129/2129 [==============================] - 62s 29ms/step - loss: 1.0882 - accuracy: 0.5690 - val_loss: 1.0160 - val_accuracy: 0.5941\n",
            "Epoch 4/250\n",
            "2128/2129 [============================>.] - ETA: 0s - loss: 1.0254 - accuracy: 0.5957\n",
            "Epoch 4: val_accuracy improved from 0.59406 to 0.61027, saving model to model.ckpt\n",
            "2129/2129 [==============================] - 62s 29ms/step - loss: 1.0255 - accuracy: 0.5957 - val_loss: 0.9674 - val_accuracy: 0.6103\n",
            "Epoch 5/250\n",
            "2128/2129 [============================>.] - ETA: 0s - loss: 0.9707 - accuracy: 0.6200\n",
            "Epoch 5: val_accuracy improved from 0.61027 to 0.64092, saving model to model.ckpt\n",
            "2129/2129 [==============================] - 62s 29ms/step - loss: 0.9707 - accuracy: 0.6200 - val_loss: 0.9111 - val_accuracy: 0.6409\n",
            "Epoch 6/250\n",
            "2127/2129 [============================>.] - ETA: 0s - loss: 0.9261 - accuracy: 0.6388\n",
            "Epoch 6: val_accuracy improved from 0.64092 to 0.64433, saving model to model.ckpt\n",
            "2129/2129 [==============================] - 61s 29ms/step - loss: 0.9260 - accuracy: 0.6389 - val_loss: 0.9071 - val_accuracy: 0.6443\n",
            "Epoch 7/250\n",
            "2129/2129 [==============================] - ETA: 0s - loss: 0.8835 - accuracy: 0.6557\n",
            "Epoch 7: val_accuracy improved from 0.64433 to 0.67681, saving model to model.ckpt\n",
            "2129/2129 [==============================] - 62s 29ms/step - loss: 0.8835 - accuracy: 0.6557 - val_loss: 0.8337 - val_accuracy: 0.6768\n",
            "Epoch 8/250\n",
            "2127/2129 [============================>.] - ETA: 0s - loss: 0.8508 - accuracy: 0.6681\n",
            "Epoch 8: val_accuracy improved from 0.67681 to 0.68779, saving model to model.ckpt\n",
            "2129/2129 [==============================] - 62s 29ms/step - loss: 0.8509 - accuracy: 0.6681 - val_loss: 0.7956 - val_accuracy: 0.6878\n",
            "Epoch 9/250\n",
            "2127/2129 [============================>.] - ETA: 0s - loss: 0.8146 - accuracy: 0.6841\n",
            "Epoch 9: val_accuracy improved from 0.68779 to 0.71639, saving model to model.ckpt\n",
            "2129/2129 [==============================] - 62s 29ms/step - loss: 0.8147 - accuracy: 0.6841 - val_loss: 0.7392 - val_accuracy: 0.7164\n",
            "Epoch 10/250\n",
            "2128/2129 [============================>.] - ETA: 0s - loss: 0.7879 - accuracy: 0.6946\n",
            "Epoch 10: val_accuracy did not improve from 0.71639\n",
            "2129/2129 [==============================] - 62s 29ms/step - loss: 0.7878 - accuracy: 0.6946 - val_loss: 0.7360 - val_accuracy: 0.7125\n",
            "Epoch 11/250\n",
            "2128/2129 [============================>.] - ETA: 0s - loss: 0.7583 - accuracy: 0.7056\n",
            "Epoch 11: val_accuracy did not improve from 0.71639\n",
            "2129/2129 [==============================] - 62s 29ms/step - loss: 0.7582 - accuracy: 0.7056 - val_loss: 0.7301 - val_accuracy: 0.7160\n",
            "Epoch 12/250\n",
            "2127/2129 [============================>.] - ETA: 0s - loss: 0.7312 - accuracy: 0.7190\n",
            "Epoch 12: val_accuracy improved from 0.71639 to 0.74834, saving model to model.ckpt\n",
            "2129/2129 [==============================] - 61s 29ms/step - loss: 0.7311 - accuracy: 0.7191 - val_loss: 0.6510 - val_accuracy: 0.7483\n",
            "Epoch 13/250\n",
            "2127/2129 [============================>.] - ETA: 0s - loss: 0.7094 - accuracy: 0.7273\n",
            "Epoch 13: val_accuracy improved from 0.74834 to 0.76232, saving model to model.ckpt\n",
            "2129/2129 [==============================] - 61s 29ms/step - loss: 0.7094 - accuracy: 0.7274 - val_loss: 0.6208 - val_accuracy: 0.7623\n",
            "Epoch 14/250\n",
            "2127/2129 [============================>.] - ETA: 0s - loss: 0.6892 - accuracy: 0.7345\n",
            "Epoch 14: val_accuracy did not improve from 0.76232\n",
            "2129/2129 [==============================] - 61s 29ms/step - loss: 0.6891 - accuracy: 0.7345 - val_loss: 0.6226 - val_accuracy: 0.7619\n",
            "Epoch 15/250\n",
            "2128/2129 [============================>.] - ETA: 0s - loss: 0.6697 - accuracy: 0.7420\n",
            "Epoch 15: val_accuracy improved from 0.76232 to 0.76802, saving model to model.ckpt\n",
            "2129/2129 [==============================] - 62s 29ms/step - loss: 0.6698 - accuracy: 0.7420 - val_loss: 0.6089 - val_accuracy: 0.7680\n",
            "Epoch 16/250\n",
            "2127/2129 [============================>.] - ETA: 0s - loss: 0.6456 - accuracy: 0.7534\n",
            "Epoch 16: val_accuracy improved from 0.76802 to 0.77859, saving model to model.ckpt\n",
            "2129/2129 [==============================] - 62s 29ms/step - loss: 0.6456 - accuracy: 0.7534 - val_loss: 0.5871 - val_accuracy: 0.7786\n",
            "Epoch 17/250\n",
            "2128/2129 [============================>.] - ETA: 0s - loss: 0.6296 - accuracy: 0.7592\n",
            "Epoch 17: val_accuracy improved from 0.77859 to 0.79650, saving model to model.ckpt\n",
            "2129/2129 [==============================] - 62s 29ms/step - loss: 0.6297 - accuracy: 0.7592 - val_loss: 0.5439 - val_accuracy: 0.7965\n",
            "Epoch 18/250\n",
            "2127/2129 [============================>.] - ETA: 0s - loss: 0.6128 - accuracy: 0.7661\n",
            "Epoch 18: val_accuracy improved from 0.79650 to 0.80413, saving model to model.ckpt\n",
            "2129/2129 [==============================] - 61s 29ms/step - loss: 0.6128 - accuracy: 0.7661 - val_loss: 0.5284 - val_accuracy: 0.8041\n",
            "Epoch 19/250\n",
            "2128/2129 [============================>.] - ETA: 0s - loss: 0.5982 - accuracy: 0.7712\n",
            "Epoch 19: val_accuracy improved from 0.80413 to 0.81506, saving model to model.ckpt\n",
            "2129/2129 [==============================] - 61s 29ms/step - loss: 0.5982 - accuracy: 0.7712 - val_loss: 0.5020 - val_accuracy: 0.8151\n",
            "Epoch 20/250\n",
            "2127/2129 [============================>.] - ETA: 0s - loss: 0.5854 - accuracy: 0.7751\n",
            "Epoch 20: val_accuracy improved from 0.81506 to 0.82152, saving model to model.ckpt\n",
            "2129/2129 [==============================] - 62s 29ms/step - loss: 0.5854 - accuracy: 0.7752 - val_loss: 0.4846 - val_accuracy: 0.8215\n",
            "Epoch 21/250\n",
            "2128/2129 [============================>.] - ETA: 0s - loss: 0.5720 - accuracy: 0.7809\n",
            "Epoch 21: val_accuracy did not improve from 0.82152\n",
            "2129/2129 [==============================] - 61s 29ms/step - loss: 0.5720 - accuracy: 0.7809 - val_loss: 0.4877 - val_accuracy: 0.8185\n",
            "Epoch 22/250\n",
            "2127/2129 [============================>.] - ETA: 0s - loss: 0.5567 - accuracy: 0.7892\n",
            "Epoch 22: val_accuracy improved from 0.82152 to 0.83368, saving model to model.ckpt\n",
            "2129/2129 [==============================] - 62s 29ms/step - loss: 0.5566 - accuracy: 0.7893 - val_loss: 0.4548 - val_accuracy: 0.8337\n",
            "Epoch 23/250\n",
            "2127/2129 [============================>.] - ETA: 0s - loss: 0.5428 - accuracy: 0.7944\n",
            "Epoch 23: val_accuracy improved from 0.83368 to 0.83696, saving model to model.ckpt\n",
            "2129/2129 [==============================] - 62s 29ms/step - loss: 0.5427 - accuracy: 0.7944 - val_loss: 0.4482 - val_accuracy: 0.8370\n",
            "Epoch 24/250\n",
            "2127/2129 [============================>.] - ETA: 0s - loss: 0.5292 - accuracy: 0.8001\n",
            "Epoch 24: val_accuracy improved from 0.83696 to 0.84231, saving model to model.ckpt\n",
            "2129/2129 [==============================] - 62s 29ms/step - loss: 0.5292 - accuracy: 0.8001 - val_loss: 0.4318 - val_accuracy: 0.8423\n",
            "Epoch 25/250\n",
            "2127/2129 [============================>.] - ETA: 0s - loss: 0.5238 - accuracy: 0.8021\n",
            "Epoch 25: val_accuracy improved from 0.84231 to 0.84900, saving model to model.ckpt\n",
            "2129/2129 [==============================] - 62s 29ms/step - loss: 0.5238 - accuracy: 0.8021 - val_loss: 0.4222 - val_accuracy: 0.8490\n",
            "Epoch 26/250\n",
            "2128/2129 [============================>.] - ETA: 0s - loss: 0.5117 - accuracy: 0.8050\n",
            "Epoch 26: val_accuracy improved from 0.84900 to 0.84953, saving model to model.ckpt\n",
            "2129/2129 [==============================] - 62s 29ms/step - loss: 0.5116 - accuracy: 0.8050 - val_loss: 0.4176 - val_accuracy: 0.8495\n",
            "Epoch 27/250\n",
            "2127/2129 [============================>.] - ETA: 0s - loss: 0.5006 - accuracy: 0.8107\n",
            "Epoch 27: val_accuracy improved from 0.84953 to 0.85294, saving model to model.ckpt\n",
            "2129/2129 [==============================] - 62s 29ms/step - loss: 0.5007 - accuracy: 0.8107 - val_loss: 0.4039 - val_accuracy: 0.8529\n",
            "Epoch 28/250\n",
            "2128/2129 [============================>.] - ETA: 0s - loss: 0.4896 - accuracy: 0.8149\n",
            "Epoch 28: val_accuracy improved from 0.85294 to 0.85582, saving model to model.ckpt\n",
            "2129/2129 [==============================] - 61s 29ms/step - loss: 0.4896 - accuracy: 0.8149 - val_loss: 0.3906 - val_accuracy: 0.8558\n",
            "Epoch 29/250\n",
            "2128/2129 [============================>.] - ETA: 0s - loss: 0.4795 - accuracy: 0.8174\n",
            "Epoch 29: val_accuracy improved from 0.85582 to 0.85676, saving model to model.ckpt\n",
            "2129/2129 [==============================] - 61s 29ms/step - loss: 0.4795 - accuracy: 0.8174 - val_loss: 0.3891 - val_accuracy: 0.8568\n",
            "Epoch 30/250\n",
            "2127/2129 [============================>.] - ETA: 0s - loss: 0.4746 - accuracy: 0.8188\n",
            "Epoch 30: val_accuracy improved from 0.85676 to 0.87109, saving model to model.ckpt\n",
            "2129/2129 [==============================] - 62s 29ms/step - loss: 0.4745 - accuracy: 0.8189 - val_loss: 0.3573 - val_accuracy: 0.8711\n",
            "Epoch 31/250\n",
            "2128/2129 [============================>.] - ETA: 0s - loss: 0.4634 - accuracy: 0.8258\n",
            "Epoch 31: val_accuracy did not improve from 0.87109\n",
            "2129/2129 [==============================] - 62s 29ms/step - loss: 0.4634 - accuracy: 0.8258 - val_loss: 0.3756 - val_accuracy: 0.8606\n",
            "Epoch 32/250\n",
            "2128/2129 [============================>.] - ETA: 0s - loss: 0.4628 - accuracy: 0.8260\n",
            "Epoch 32: val_accuracy improved from 0.87109 to 0.87162, saving model to model.ckpt\n",
            "2129/2129 [==============================] - 62s 29ms/step - loss: 0.4628 - accuracy: 0.8260 - val_loss: 0.3547 - val_accuracy: 0.8716\n",
            "Epoch 33/250\n",
            "2128/2129 [============================>.] - ETA: 0s - loss: 0.4524 - accuracy: 0.8292\n",
            "Epoch 33: val_accuracy did not improve from 0.87162\n",
            "2129/2129 [==============================] - 62s 29ms/step - loss: 0.4525 - accuracy: 0.8292 - val_loss: 0.3557 - val_accuracy: 0.8699\n",
            "Epoch 34/250\n",
            "2128/2129 [============================>.] - ETA: 0s - loss: 0.4475 - accuracy: 0.8309\n",
            "Epoch 34: val_accuracy did not improve from 0.87162\n",
            "2129/2129 [==============================] - 62s 29ms/step - loss: 0.4476 - accuracy: 0.8309 - val_loss: 0.3690 - val_accuracy: 0.8674\n",
            "Epoch 35/250\n",
            "2128/2129 [============================>.] - ETA: 0s - loss: 0.4367 - accuracy: 0.8371\n",
            "Epoch 35: val_accuracy did not improve from 0.87162\n",
            "2129/2129 [==============================] - 61s 29ms/step - loss: 0.4368 - accuracy: 0.8371 - val_loss: 0.3615 - val_accuracy: 0.8682\n",
            "Epoch 36/250\n",
            "2127/2129 [============================>.] - ETA: 0s - loss: 0.4314 - accuracy: 0.8375\n",
            "Epoch 36: val_accuracy improved from 0.87162 to 0.87402, saving model to model.ckpt\n",
            "2129/2129 [==============================] - 63s 29ms/step - loss: 0.4314 - accuracy: 0.8375 - val_loss: 0.3507 - val_accuracy: 0.8740\n",
            "Epoch 37/250\n",
            "2128/2129 [============================>.] - ETA: 0s - loss: 0.4239 - accuracy: 0.8395\n",
            "Epoch 37: val_accuracy improved from 0.87402 to 0.87690, saving model to model.ckpt\n",
            "2129/2129 [==============================] - 62s 29ms/step - loss: 0.4239 - accuracy: 0.8395 - val_loss: 0.3450 - val_accuracy: 0.8769\n",
            "Epoch 38/250\n",
            "2129/2129 [==============================] - ETA: 0s - loss: 0.4136 - accuracy: 0.8457\n",
            "Epoch 38: val_accuracy improved from 0.87690 to 0.88178, saving model to model.ckpt\n",
            "2129/2129 [==============================] - 62s 29ms/step - loss: 0.4136 - accuracy: 0.8457 - val_loss: 0.3321 - val_accuracy: 0.8818\n",
            "Epoch 39/250\n",
            "2127/2129 [============================>.] - ETA: 0s - loss: 0.4130 - accuracy: 0.8440\n",
            "Epoch 39: val_accuracy improved from 0.88178 to 0.88330, saving model to model.ckpt\n",
            "2129/2129 [==============================] - 62s 29ms/step - loss: 0.4132 - accuracy: 0.8440 - val_loss: 0.3292 - val_accuracy: 0.8833\n",
            "Epoch 40/250\n",
            "2127/2129 [============================>.] - ETA: 0s - loss: 0.4028 - accuracy: 0.8499\n",
            "Epoch 40: val_accuracy improved from 0.88330 to 0.88530, saving model to model.ckpt\n",
            "2129/2129 [==============================] - 63s 29ms/step - loss: 0.4031 - accuracy: 0.8499 - val_loss: 0.3239 - val_accuracy: 0.8853\n",
            "Epoch 41/250\n",
            "2127/2129 [============================>.] - ETA: 0s - loss: 0.4008 - accuracy: 0.8502\n",
            "Epoch 41: val_accuracy did not improve from 0.88530\n",
            "2129/2129 [==============================] - 62s 29ms/step - loss: 0.4008 - accuracy: 0.8502 - val_loss: 0.3265 - val_accuracy: 0.8815\n",
            "Epoch 42/250\n",
            "2127/2129 [============================>.] - ETA: 0s - loss: 0.3938 - accuracy: 0.8533\n",
            "Epoch 42: val_accuracy improved from 0.88530 to 0.89100, saving model to model.ckpt\n",
            "2129/2129 [==============================] - 61s 29ms/step - loss: 0.3938 - accuracy: 0.8533 - val_loss: 0.3056 - val_accuracy: 0.8910\n",
            "Epoch 43/250\n",
            "2127/2129 [============================>.] - ETA: 0s - loss: 0.3876 - accuracy: 0.8556\n",
            "Epoch 43: val_accuracy did not improve from 0.89100\n",
            "2129/2129 [==============================] - 62s 29ms/step - loss: 0.3877 - accuracy: 0.8556 - val_loss: 0.3196 - val_accuracy: 0.8872\n",
            "Epoch 44/250\n",
            "2128/2129 [============================>.] - ETA: 0s - loss: 0.3859 - accuracy: 0.8561\n",
            "Epoch 44: val_accuracy improved from 0.89100 to 0.89217, saving model to model.ckpt\n",
            "2129/2129 [==============================] - 61s 29ms/step - loss: 0.3859 - accuracy: 0.8561 - val_loss: 0.3038 - val_accuracy: 0.8922\n",
            "Epoch 45/250\n",
            "2127/2129 [============================>.] - ETA: 0s - loss: 0.3802 - accuracy: 0.8581\n",
            "Epoch 45: val_accuracy did not improve from 0.89217\n",
            "2129/2129 [==============================] - 62s 29ms/step - loss: 0.3803 - accuracy: 0.8581 - val_loss: 0.3050 - val_accuracy: 0.8888\n",
            "Epoch 46/250\n",
            "2127/2129 [============================>.] - ETA: 0s - loss: 0.3736 - accuracy: 0.8604\n",
            "Epoch 46: val_accuracy improved from 0.89217 to 0.89599, saving model to model.ckpt\n",
            "2129/2129 [==============================] - 62s 29ms/step - loss: 0.3735 - accuracy: 0.8604 - val_loss: 0.2935 - val_accuracy: 0.8960\n",
            "Epoch 47/250\n",
            "2127/2129 [============================>.] - ETA: 0s - loss: 0.3717 - accuracy: 0.8605\n",
            "Epoch 47: val_accuracy did not improve from 0.89599\n",
            "2129/2129 [==============================] - 63s 29ms/step - loss: 0.3716 - accuracy: 0.8605 - val_loss: 0.2996 - val_accuracy: 0.8955\n",
            "Epoch 48/250\n",
            "2127/2129 [============================>.] - ETA: 0s - loss: 0.3685 - accuracy: 0.8627\n",
            "Epoch 48: val_accuracy did not improve from 0.89599\n",
            "2129/2129 [==============================] - 61s 29ms/step - loss: 0.3686 - accuracy: 0.8627 - val_loss: 0.3082 - val_accuracy: 0.8900\n",
            "Epoch 49/250\n",
            "2127/2129 [============================>.] - ETA: 0s - loss: 0.3654 - accuracy: 0.8643\n",
            "Epoch 49: val_accuracy improved from 0.89599 to 0.90315, saving model to model.ckpt\n",
            "2129/2129 [==============================] - 62s 29ms/step - loss: 0.3654 - accuracy: 0.8643 - val_loss: 0.2809 - val_accuracy: 0.9032\n",
            "Epoch 50/250\n",
            "2128/2129 [============================>.] - ETA: 0s - loss: 0.3608 - accuracy: 0.8661\n",
            "Epoch 50: val_accuracy did not improve from 0.90315\n",
            "2129/2129 [==============================] - 62s 29ms/step - loss: 0.3607 - accuracy: 0.8662 - val_loss: 0.2847 - val_accuracy: 0.9013\n",
            "Epoch 51/250\n",
            "2127/2129 [============================>.] - ETA: 0s - loss: 0.3567 - accuracy: 0.8678\n",
            "Epoch 51: val_accuracy improved from 0.90315 to 0.90697, saving model to model.ckpt\n",
            "2129/2129 [==============================] - 62s 29ms/step - loss: 0.3567 - accuracy: 0.8678 - val_loss: 0.2714 - val_accuracy: 0.9070\n",
            "Epoch 52/250\n",
            "2127/2129 [============================>.] - ETA: 0s - loss: 0.3488 - accuracy: 0.8711\n",
            "Epoch 52: val_accuracy did not improve from 0.90697\n",
            "2129/2129 [==============================] - 62s 29ms/step - loss: 0.3488 - accuracy: 0.8711 - val_loss: 0.2740 - val_accuracy: 0.9040\n",
            "Epoch 53/250\n",
            "2127/2129 [============================>.] - ETA: 0s - loss: 0.3457 - accuracy: 0.8718\n",
            "Epoch 53: val_accuracy did not improve from 0.90697\n",
            "2129/2129 [==============================] - 61s 29ms/step - loss: 0.3456 - accuracy: 0.8718 - val_loss: 0.2831 - val_accuracy: 0.9008\n",
            "Epoch 54/250\n",
            "2127/2129 [============================>.] - ETA: 0s - loss: 0.3472 - accuracy: 0.8719\n",
            "Epoch 54: val_accuracy did not improve from 0.90697\n",
            "2129/2129 [==============================] - 62s 29ms/step - loss: 0.3472 - accuracy: 0.8719 - val_loss: 0.2940 - val_accuracy: 0.8948\n",
            "Epoch 55/250\n",
            "2128/2129 [============================>.] - ETA: 0s - loss: 0.3391 - accuracy: 0.8741\n",
            "Epoch 55: val_accuracy did not improve from 0.90697\n",
            "2129/2129 [==============================] - 61s 29ms/step - loss: 0.3392 - accuracy: 0.8741 - val_loss: 0.2774 - val_accuracy: 0.9043\n",
            "Epoch 56/250\n",
            "2128/2129 [============================>.] - ETA: 0s - loss: 0.3367 - accuracy: 0.8754\n",
            "Epoch 56: val_accuracy improved from 0.90697 to 0.90785, saving model to model.ckpt\n",
            "2129/2129 [==============================] - 62s 29ms/step - loss: 0.3367 - accuracy: 0.8754 - val_loss: 0.2669 - val_accuracy: 0.9079\n",
            "Epoch 57/250\n",
            "2127/2129 [============================>.] - ETA: 0s - loss: 0.3301 - accuracy: 0.8772\n",
            "Epoch 57: val_accuracy did not improve from 0.90785\n",
            "2129/2129 [==============================] - 62s 29ms/step - loss: 0.3301 - accuracy: 0.8772 - val_loss: 0.2734 - val_accuracy: 0.9047\n",
            "Epoch 58/250\n",
            "2127/2129 [============================>.] - ETA: 0s - loss: 0.3306 - accuracy: 0.8777\n",
            "Epoch 58: val_accuracy improved from 0.90785 to 0.91143, saving model to model.ckpt\n",
            "2129/2129 [==============================] - 62s 29ms/step - loss: 0.3304 - accuracy: 0.8778 - val_loss: 0.2593 - val_accuracy: 0.9114\n",
            "Epoch 59/250\n",
            "2127/2129 [============================>.] - ETA: 0s - loss: 0.3321 - accuracy: 0.8771\n",
            "Epoch 59: val_accuracy improved from 0.91143 to 0.91179, saving model to model.ckpt\n",
            "2129/2129 [==============================] - 62s 29ms/step - loss: 0.3320 - accuracy: 0.8772 - val_loss: 0.2597 - val_accuracy: 0.9118\n",
            "Epoch 60/250\n",
            "2127/2129 [============================>.] - ETA: 0s - loss: 0.3274 - accuracy: 0.8787\n",
            "Epoch 60: val_accuracy did not improve from 0.91179\n",
            "2129/2129 [==============================] - 61s 29ms/step - loss: 0.3275 - accuracy: 0.8786 - val_loss: 0.2673 - val_accuracy: 0.9061\n",
            "Epoch 61/250\n",
            "2128/2129 [============================>.] - ETA: 0s - loss: 0.3217 - accuracy: 0.8816\n",
            "Epoch 61: val_accuracy did not improve from 0.91179\n",
            "2129/2129 [==============================] - 61s 29ms/step - loss: 0.3216 - accuracy: 0.8816 - val_loss: 0.2690 - val_accuracy: 0.9063\n",
            "Epoch 62/250\n",
            "2127/2129 [============================>.] - ETA: 0s - loss: 0.3199 - accuracy: 0.8823\n",
            "Epoch 62: val_accuracy improved from 0.91179 to 0.91543, saving model to model.ckpt\n",
            "2129/2129 [==============================] - 62s 29ms/step - loss: 0.3199 - accuracy: 0.8823 - val_loss: 0.2460 - val_accuracy: 0.9154\n",
            "Epoch 63/250\n",
            "2128/2129 [============================>.] - ETA: 0s - loss: 0.3124 - accuracy: 0.8843\n",
            "Epoch 63: val_accuracy did not improve from 0.91543\n",
            "2129/2129 [==============================] - 62s 29ms/step - loss: 0.3124 - accuracy: 0.8843 - val_loss: 0.2693 - val_accuracy: 0.9057\n",
            "Epoch 64/250\n",
            "2128/2129 [============================>.] - ETA: 0s - loss: 0.3140 - accuracy: 0.8848\n",
            "Epoch 64: val_accuracy did not improve from 0.91543\n",
            "2129/2129 [==============================] - 62s 29ms/step - loss: 0.3141 - accuracy: 0.8848 - val_loss: 0.2574 - val_accuracy: 0.9106\n",
            "Epoch 65/250\n",
            "2127/2129 [============================>.] - ETA: 0s - loss: 0.3089 - accuracy: 0.8857\n",
            "Epoch 65: val_accuracy did not improve from 0.91543\n",
            "2129/2129 [==============================] - 62s 29ms/step - loss: 0.3090 - accuracy: 0.8856 - val_loss: 0.2569 - val_accuracy: 0.9104\n",
            "Epoch 66/250\n",
            "2127/2129 [============================>.] - ETA: 0s - loss: 0.3118 - accuracy: 0.8846\n",
            "Epoch 66: val_accuracy did not improve from 0.91543\n",
            "2129/2129 [==============================] - 62s 29ms/step - loss: 0.3118 - accuracy: 0.8846 - val_loss: 0.2529 - val_accuracy: 0.9115\n",
            "Epoch 67/250\n",
            "2127/2129 [============================>.] - ETA: 0s - loss: 0.3095 - accuracy: 0.8855\n",
            "Epoch 67: val_accuracy did not improve from 0.91543\n",
            "2129/2129 [==============================] - 62s 29ms/step - loss: 0.3094 - accuracy: 0.8855 - val_loss: 0.2566 - val_accuracy: 0.9086\n",
            "Epoch 68/250\n",
            "2127/2129 [============================>.] - ETA: 0s - loss: 0.3026 - accuracy: 0.8883\n",
            "Epoch 68: val_accuracy improved from 0.91543 to 0.91654, saving model to model.ckpt\n",
            "2129/2129 [==============================] - 61s 29ms/step - loss: 0.3027 - accuracy: 0.8882 - val_loss: 0.2425 - val_accuracy: 0.9165\n",
            "Epoch 69/250\n",
            "2127/2129 [============================>.] - ETA: 0s - loss: 0.2931 - accuracy: 0.8910\n",
            "Epoch 69: val_accuracy did not improve from 0.91654\n",
            "2129/2129 [==============================] - 61s 29ms/step - loss: 0.2931 - accuracy: 0.8910 - val_loss: 0.2483 - val_accuracy: 0.9144\n",
            "Epoch 70/250\n",
            "2127/2129 [============================>.] - ETA: 0s - loss: 0.2929 - accuracy: 0.8918\n",
            "Epoch 70: val_accuracy did not improve from 0.91654\n",
            "2129/2129 [==============================] - 62s 29ms/step - loss: 0.2929 - accuracy: 0.8918 - val_loss: 0.2473 - val_accuracy: 0.9143\n",
            "Epoch 71/250\n",
            "2128/2129 [============================>.] - ETA: 0s - loss: 0.2974 - accuracy: 0.8903\n",
            "Epoch 71: val_accuracy improved from 0.91654 to 0.91977, saving model to model.ckpt\n",
            "2129/2129 [==============================] - 62s 29ms/step - loss: 0.2974 - accuracy: 0.8904 - val_loss: 0.2334 - val_accuracy: 0.9198\n",
            "Epoch 72/250\n",
            "2127/2129 [============================>.] - ETA: 0s - loss: 0.2910 - accuracy: 0.8931\n",
            "Epoch 72: val_accuracy did not improve from 0.91977\n",
            "2129/2129 [==============================] - 62s 29ms/step - loss: 0.2910 - accuracy: 0.8931 - val_loss: 0.2424 - val_accuracy: 0.9148\n",
            "Epoch 73/250\n",
            "2127/2129 [============================>.] - ETA: 0s - loss: 0.2871 - accuracy: 0.8932\n",
            "Epoch 73: val_accuracy did not improve from 0.91977\n",
            "2129/2129 [==============================] - 62s 29ms/step - loss: 0.2870 - accuracy: 0.8932 - val_loss: 0.2454 - val_accuracy: 0.9145\n",
            "Epoch 74/250\n",
            "2127/2129 [============================>.] - ETA: 0s - loss: 0.2862 - accuracy: 0.8949\n",
            "Epoch 74: val_accuracy did not improve from 0.91977\n",
            "2129/2129 [==============================] - 61s 29ms/step - loss: 0.2863 - accuracy: 0.8949 - val_loss: 0.2382 - val_accuracy: 0.9180\n",
            "Epoch 75/250\n",
            "2128/2129 [============================>.] - ETA: 0s - loss: 0.2859 - accuracy: 0.8953\n",
            "Epoch 75: val_accuracy did not improve from 0.91977\n",
            "2129/2129 [==============================] - 61s 29ms/step - loss: 0.2859 - accuracy: 0.8953 - val_loss: 0.2400 - val_accuracy: 0.9174\n",
            "Epoch 76/250\n",
            "2128/2129 [============================>.] - ETA: 0s - loss: 0.2869 - accuracy: 0.8944\n",
            "Epoch 76: val_accuracy did not improve from 0.91977\n",
            "2129/2129 [==============================] - 61s 29ms/step - loss: 0.2869 - accuracy: 0.8944 - val_loss: 0.2340 - val_accuracy: 0.9192\n",
            "Epoch 77/250\n",
            "2127/2129 [============================>.] - ETA: 0s - loss: 0.2814 - accuracy: 0.8960\n",
            "Epoch 77: val_accuracy did not improve from 0.91977\n",
            "2129/2129 [==============================] - 62s 29ms/step - loss: 0.2815 - accuracy: 0.8960 - val_loss: 0.2414 - val_accuracy: 0.9161\n",
            "Epoch 78/250\n",
            "2127/2129 [============================>.] - ETA: 0s - loss: 0.2764 - accuracy: 0.8983\n",
            "Epoch 78: val_accuracy did not improve from 0.91977\n",
            "2129/2129 [==============================] - 62s 29ms/step - loss: 0.2763 - accuracy: 0.8983 - val_loss: 0.2573 - val_accuracy: 0.9118\n",
            "Epoch 79/250\n",
            "2128/2129 [============================>.] - ETA: 0s - loss: 0.2755 - accuracy: 0.8992\n",
            "Epoch 79: val_accuracy did not improve from 0.91977\n",
            "2129/2129 [==============================] - 61s 29ms/step - loss: 0.2756 - accuracy: 0.8991 - val_loss: 0.2460 - val_accuracy: 0.9160\n",
            "Epoch 80/250\n",
            "2128/2129 [============================>.] - ETA: 0s - loss: 0.2750 - accuracy: 0.8977\n",
            "Epoch 80: val_accuracy did not improve from 0.91977\n",
            "2129/2129 [==============================] - 62s 29ms/step - loss: 0.2749 - accuracy: 0.8977 - val_loss: 0.2384 - val_accuracy: 0.9166\n",
            "Epoch 81/250\n",
            "2127/2129 [============================>.] - ETA: 0s - loss: 0.2730 - accuracy: 0.8989\n",
            "Epoch 81: val_accuracy improved from 0.91977 to 0.92013, saving model to model.ckpt\n",
            "2129/2129 [==============================] - 63s 29ms/step - loss: 0.2730 - accuracy: 0.8989 - val_loss: 0.2334 - val_accuracy: 0.9201\n",
            "Epoch 82/250\n",
            "2127/2129 [============================>.] - ETA: 0s - loss: 0.2708 - accuracy: 0.8999\n",
            "Epoch 82: val_accuracy did not improve from 0.92013\n",
            "2129/2129 [==============================] - 63s 29ms/step - loss: 0.2707 - accuracy: 0.8999 - val_loss: 0.2400 - val_accuracy: 0.9190\n",
            "Epoch 83/250\n",
            "2128/2129 [============================>.] - ETA: 0s - loss: 0.2697 - accuracy: 0.9008\n",
            "Epoch 83: val_accuracy improved from 0.92013 to 0.92083, saving model to model.ckpt\n",
            "2129/2129 [==============================] - 62s 29ms/step - loss: 0.2697 - accuracy: 0.9007 - val_loss: 0.2282 - val_accuracy: 0.9208\n",
            "Epoch 84/250\n",
            "2127/2129 [============================>.] - ETA: 0s - loss: 0.2699 - accuracy: 0.9021\n",
            "Epoch 84: val_accuracy improved from 0.92083 to 0.92418, saving model to model.ckpt\n",
            "2129/2129 [==============================] - 63s 30ms/step - loss: 0.2698 - accuracy: 0.9021 - val_loss: 0.2261 - val_accuracy: 0.9242\n",
            "Epoch 85/250\n",
            "2128/2129 [============================>.] - ETA: 0s - loss: 0.2658 - accuracy: 0.9033\n",
            "Epoch 85: val_accuracy did not improve from 0.92418\n",
            "2129/2129 [==============================] - 62s 29ms/step - loss: 0.2658 - accuracy: 0.9033 - val_loss: 0.2364 - val_accuracy: 0.9192\n",
            "Epoch 86/250\n",
            "2127/2129 [============================>.] - ETA: 0s - loss: 0.2670 - accuracy: 0.9013\n",
            "Epoch 86: val_accuracy did not improve from 0.92418\n",
            "2129/2129 [==============================] - 62s 29ms/step - loss: 0.2671 - accuracy: 0.9013 - val_loss: 0.2370 - val_accuracy: 0.9191\n",
            "Epoch 87/250\n",
            "2127/2129 [============================>.] - ETA: 0s - loss: 0.2614 - accuracy: 0.9032\n",
            "Epoch 87: val_accuracy did not improve from 0.92418\n",
            "2129/2129 [==============================] - 62s 29ms/step - loss: 0.2614 - accuracy: 0.9032 - val_loss: 0.2318 - val_accuracy: 0.9174\n",
            "Epoch 88/250\n",
            "2128/2129 [============================>.] - ETA: 0s - loss: 0.2591 - accuracy: 0.9045\n",
            "Epoch 88: val_accuracy did not improve from 0.92418\n",
            "2129/2129 [==============================] - 62s 29ms/step - loss: 0.2591 - accuracy: 0.9045 - val_loss: 0.2400 - val_accuracy: 0.9182\n",
            "Epoch 89/250\n",
            "2127/2129 [============================>.] - ETA: 0s - loss: 0.2579 - accuracy: 0.9053\n",
            "Epoch 89: val_accuracy did not improve from 0.92418\n",
            "2129/2129 [==============================] - 62s 29ms/step - loss: 0.2578 - accuracy: 0.9053 - val_loss: 0.2301 - val_accuracy: 0.9218\n",
            "Epoch 90/250\n",
            "2127/2129 [============================>.] - ETA: 0s - loss: 0.2574 - accuracy: 0.9055\n",
            "Epoch 90: val_accuracy did not improve from 0.92418\n",
            "2129/2129 [==============================] - 63s 29ms/step - loss: 0.2573 - accuracy: 0.9055 - val_loss: 0.2319 - val_accuracy: 0.9209\n",
            "Epoch 91/250\n",
            "2129/2129 [==============================] - ETA: 0s - loss: 0.2544 - accuracy: 0.9068\n",
            "Epoch 91: val_accuracy did not improve from 0.92418\n",
            "2129/2129 [==============================] - 62s 29ms/step - loss: 0.2544 - accuracy: 0.9068 - val_loss: 0.2286 - val_accuracy: 0.9199\n",
            "Epoch 92/250\n",
            "2128/2129 [============================>.] - ETA: 0s - loss: 0.2591 - accuracy: 0.9049\n",
            "Epoch 92: val_accuracy did not improve from 0.92418\n",
            "2129/2129 [==============================] - 61s 29ms/step - loss: 0.2591 - accuracy: 0.9049 - val_loss: 0.2363 - val_accuracy: 0.9182\n",
            "Epoch 93/250\n",
            "2127/2129 [============================>.] - ETA: 0s - loss: 0.2566 - accuracy: 0.9062\n",
            "Epoch 93: val_accuracy improved from 0.92418 to 0.92559, saving model to model.ckpt\n",
            "2129/2129 [==============================] - 62s 29ms/step - loss: 0.2565 - accuracy: 0.9063 - val_loss: 0.2181 - val_accuracy: 0.9256\n",
            "Epoch 94/250\n",
            "2127/2129 [============================>.] - ETA: 0s - loss: 0.2521 - accuracy: 0.9072\n",
            "Epoch 94: val_accuracy did not improve from 0.92559\n",
            "2129/2129 [==============================] - 61s 29ms/step - loss: 0.2520 - accuracy: 0.9073 - val_loss: 0.2248 - val_accuracy: 0.9218\n",
            "Epoch 95/250\n",
            "2127/2129 [============================>.] - ETA: 0s - loss: 0.2496 - accuracy: 0.9086\n",
            "Epoch 95: val_accuracy did not improve from 0.92559\n",
            "2129/2129 [==============================] - 62s 29ms/step - loss: 0.2496 - accuracy: 0.9086 - val_loss: 0.2335 - val_accuracy: 0.9183\n",
            "Epoch 96/250\n",
            "2127/2129 [============================>.] - ETA: 0s - loss: 0.2470 - accuracy: 0.9093\n",
            "Epoch 96: val_accuracy did not improve from 0.92559\n",
            "2129/2129 [==============================] - 63s 29ms/step - loss: 0.2470 - accuracy: 0.9093 - val_loss: 0.2259 - val_accuracy: 0.9222\n",
            "Epoch 97/250\n",
            "2127/2129 [============================>.] - ETA: 0s - loss: 0.2473 - accuracy: 0.9093\n",
            "Epoch 97: val_accuracy did not improve from 0.92559\n",
            "2129/2129 [==============================] - 62s 29ms/step - loss: 0.2472 - accuracy: 0.9093 - val_loss: 0.2263 - val_accuracy: 0.9231\n",
            "Epoch 98/250\n",
            "2128/2129 [============================>.] - ETA: 0s - loss: 0.2452 - accuracy: 0.9099\n",
            "Epoch 98: val_accuracy improved from 0.92559 to 0.92600, saving model to model.ckpt\n",
            "2129/2129 [==============================] - 62s 29ms/step - loss: 0.2452 - accuracy: 0.9099 - val_loss: 0.2160 - val_accuracy: 0.9260\n",
            "Epoch 99/250\n",
            "2127/2129 [============================>.] - ETA: 0s - loss: 0.2395 - accuracy: 0.9128\n",
            "Epoch 99: val_accuracy did not improve from 0.92600\n",
            "2129/2129 [==============================] - 63s 29ms/step - loss: 0.2394 - accuracy: 0.9128 - val_loss: 0.2203 - val_accuracy: 0.9241\n",
            "Epoch 100/250\n",
            "2127/2129 [============================>.] - ETA: 0s - loss: 0.2429 - accuracy: 0.9117\n",
            "Epoch 100: val_accuracy improved from 0.92600 to 0.92753, saving model to model.ckpt\n",
            "2129/2129 [==============================] - 63s 29ms/step - loss: 0.2429 - accuracy: 0.9117 - val_loss: 0.2133 - val_accuracy: 0.9275\n",
            "Epoch 101/250\n",
            "2128/2129 [============================>.] - ETA: 0s - loss: 0.2428 - accuracy: 0.9117\n",
            "Epoch 101: val_accuracy did not improve from 0.92753\n",
            "2129/2129 [==============================] - 63s 29ms/step - loss: 0.2428 - accuracy: 0.9117 - val_loss: 0.2192 - val_accuracy: 0.9264\n",
            "Epoch 102/250\n",
            "2128/2129 [============================>.] - ETA: 0s - loss: 0.2363 - accuracy: 0.9141\n",
            "Epoch 102: val_accuracy did not improve from 0.92753\n",
            "2129/2129 [==============================] - 61s 29ms/step - loss: 0.2363 - accuracy: 0.9141 - val_loss: 0.2177 - val_accuracy: 0.9258\n",
            "Epoch 103/250\n",
            "2128/2129 [============================>.] - ETA: 0s - loss: 0.2392 - accuracy: 0.9124\n",
            "Epoch 103: val_accuracy did not improve from 0.92753\n",
            "2129/2129 [==============================] - 62s 29ms/step - loss: 0.2393 - accuracy: 0.9124 - val_loss: 0.2309 - val_accuracy: 0.9202\n",
            "Epoch 104/250\n",
            "2128/2129 [============================>.] - ETA: 0s - loss: 0.2370 - accuracy: 0.9121\n",
            "Epoch 104: val_accuracy did not improve from 0.92753\n",
            "2129/2129 [==============================] - 62s 29ms/step - loss: 0.2370 - accuracy: 0.9121 - val_loss: 0.2174 - val_accuracy: 0.9261\n",
            "Epoch 105/250\n",
            "2127/2129 [============================>.] - ETA: 0s - loss: 0.2356 - accuracy: 0.9128\n",
            "Epoch 105: val_accuracy did not improve from 0.92753\n",
            "2129/2129 [==============================] - 63s 29ms/step - loss: 0.2356 - accuracy: 0.9128 - val_loss: 0.2202 - val_accuracy: 0.9250\n",
            "Epoch 106/250\n",
            "2129/2129 [==============================] - ETA: 0s - loss: 0.2312 - accuracy: 0.9158\n",
            "Epoch 106: val_accuracy improved from 0.92753 to 0.92806, saving model to model.ckpt\n",
            "2129/2129 [==============================] - 63s 30ms/step - loss: 0.2312 - accuracy: 0.9158 - val_loss: 0.2136 - val_accuracy: 0.9281\n",
            "Epoch 107/250\n",
            "2128/2129 [============================>.] - ETA: 0s - loss: 0.2312 - accuracy: 0.9154\n",
            "Epoch 107: val_accuracy did not improve from 0.92806\n",
            "2129/2129 [==============================] - 62s 29ms/step - loss: 0.2312 - accuracy: 0.9154 - val_loss: 0.2217 - val_accuracy: 0.9276\n",
            "Epoch 108/250\n",
            "2127/2129 [============================>.] - ETA: 0s - loss: 0.2307 - accuracy: 0.9156\n",
            "Epoch 108: val_accuracy did not improve from 0.92806\n",
            "2129/2129 [==============================] - 63s 30ms/step - loss: 0.2308 - accuracy: 0.9156 - val_loss: 0.2121 - val_accuracy: 0.9271\n",
            "Epoch 109/250\n",
            "2128/2129 [============================>.] - ETA: 0s - loss: 0.2310 - accuracy: 0.9147\n",
            "Epoch 109: val_accuracy did not improve from 0.92806\n",
            "2129/2129 [==============================] - 62s 29ms/step - loss: 0.2310 - accuracy: 0.9147 - val_loss: 0.2130 - val_accuracy: 0.9267\n",
            "Epoch 110/250\n",
            "2127/2129 [============================>.] - ETA: 0s - loss: 0.2301 - accuracy: 0.9154\n",
            "Epoch 110: val_accuracy did not improve from 0.92806\n",
            "2129/2129 [==============================] - 62s 29ms/step - loss: 0.2301 - accuracy: 0.9155 - val_loss: 0.2179 - val_accuracy: 0.9275\n",
            "Epoch 111/250\n",
            "2127/2129 [============================>.] - ETA: 0s - loss: 0.2269 - accuracy: 0.9174\n",
            "Epoch 111: val_accuracy did not improve from 0.92806\n",
            "2129/2129 [==============================] - 63s 30ms/step - loss: 0.2269 - accuracy: 0.9173 - val_loss: 0.2170 - val_accuracy: 0.9277\n",
            "Epoch 112/250\n",
            "2127/2129 [============================>.] - ETA: 0s - loss: 0.2302 - accuracy: 0.9166\n",
            "Epoch 112: val_accuracy did not improve from 0.92806\n",
            "2129/2129 [==============================] - 63s 29ms/step - loss: 0.2302 - accuracy: 0.9165 - val_loss: 0.2199 - val_accuracy: 0.9253\n",
            "Epoch 113/250\n",
            "2127/2129 [============================>.] - ETA: 0s - loss: 0.2259 - accuracy: 0.9177\n",
            "Epoch 113: val_accuracy did not improve from 0.92806\n",
            "2129/2129 [==============================] - 62s 29ms/step - loss: 0.2259 - accuracy: 0.9176 - val_loss: 0.2124 - val_accuracy: 0.9272\n",
            "Epoch 114/250\n",
            "2127/2129 [============================>.] - ETA: 0s - loss: 0.2252 - accuracy: 0.9183\n",
            "Epoch 114: val_accuracy improved from 0.92806 to 0.93005, saving model to model.ckpt\n",
            "2129/2129 [==============================] - 62s 29ms/step - loss: 0.2252 - accuracy: 0.9183 - val_loss: 0.2115 - val_accuracy: 0.9301\n",
            "Epoch 115/250\n",
            "2127/2129 [============================>.] - ETA: 0s - loss: 0.2264 - accuracy: 0.9171\n",
            "Epoch 115: val_accuracy did not improve from 0.93005\n",
            "2129/2129 [==============================] - 63s 29ms/step - loss: 0.2264 - accuracy: 0.9171 - val_loss: 0.2147 - val_accuracy: 0.9277\n",
            "Epoch 116/250\n",
            "2127/2129 [============================>.] - ETA: 0s - loss: 0.2233 - accuracy: 0.9191\n",
            "Epoch 116: val_accuracy did not improve from 0.93005\n",
            "2129/2129 [==============================] - 62s 29ms/step - loss: 0.2233 - accuracy: 0.9191 - val_loss: 0.2140 - val_accuracy: 0.9272\n",
            "Epoch 117/250\n",
            "2127/2129 [============================>.] - ETA: 0s - loss: 0.2226 - accuracy: 0.9184\n",
            "Epoch 117: val_accuracy did not improve from 0.93005\n",
            "2129/2129 [==============================] - 63s 29ms/step - loss: 0.2226 - accuracy: 0.9184 - val_loss: 0.2184 - val_accuracy: 0.9268\n",
            "Epoch 118/250\n",
            "2127/2129 [============================>.] - ETA: 0s - loss: 0.2185 - accuracy: 0.9208\n",
            "Epoch 118: val_accuracy did not improve from 0.93005\n",
            "2129/2129 [==============================] - 62s 29ms/step - loss: 0.2187 - accuracy: 0.9207 - val_loss: 0.2124 - val_accuracy: 0.9292\n",
            "Epoch 119/250\n",
            "2128/2129 [============================>.] - ETA: 0s - loss: 0.2207 - accuracy: 0.9188\n",
            "Epoch 119: val_accuracy did not improve from 0.93005\n",
            "2129/2129 [==============================] - 62s 29ms/step - loss: 0.2208 - accuracy: 0.9188 - val_loss: 0.2156 - val_accuracy: 0.9280\n",
            "Epoch 120/250\n",
            "2128/2129 [============================>.] - ETA: 0s - loss: 0.2223 - accuracy: 0.9195\n",
            "Epoch 120: val_accuracy did not improve from 0.93005\n",
            "2129/2129 [==============================] - 62s 29ms/step - loss: 0.2223 - accuracy: 0.9195 - val_loss: 0.2154 - val_accuracy: 0.9270\n",
            "Epoch 121/250\n",
            "2129/2129 [==============================] - ETA: 0s - loss: 0.2159 - accuracy: 0.9216\n",
            "Epoch 121: val_accuracy did not improve from 0.93005\n",
            "2129/2129 [==============================] - 62s 29ms/step - loss: 0.2159 - accuracy: 0.9216 - val_loss: 0.2170 - val_accuracy: 0.9285\n",
            "Epoch 122/250\n",
            "2128/2129 [============================>.] - ETA: 0s - loss: 0.2159 - accuracy: 0.9217\n",
            "Epoch 122: val_accuracy did not improve from 0.93005\n",
            "2129/2129 [==============================] - 63s 29ms/step - loss: 0.2159 - accuracy: 0.9217 - val_loss: 0.2176 - val_accuracy: 0.9269\n",
            "Epoch 123/250\n",
            "2127/2129 [============================>.] - ETA: 0s - loss: 0.2138 - accuracy: 0.9223\n",
            "Epoch 123: val_accuracy did not improve from 0.93005\n",
            "2129/2129 [==============================] - 62s 29ms/step - loss: 0.2138 - accuracy: 0.9223 - val_loss: 0.2226 - val_accuracy: 0.9249\n",
            "Epoch 124/250\n",
            "2127/2129 [============================>.] - ETA: 0s - loss: 0.2141 - accuracy: 0.9221\n",
            "Epoch 124: val_accuracy did not improve from 0.93005\n",
            "2129/2129 [==============================] - 63s 29ms/step - loss: 0.2141 - accuracy: 0.9221 - val_loss: 0.2171 - val_accuracy: 0.9282\n",
            "Epoch 125/250\n",
            "2128/2129 [============================>.] - ETA: 0s - loss: 0.2167 - accuracy: 0.9209\n",
            "Epoch 125: val_accuracy did not improve from 0.93005\n",
            "2129/2129 [==============================] - 62s 29ms/step - loss: 0.2167 - accuracy: 0.9209 - val_loss: 0.2081 - val_accuracy: 0.9285\n",
            "Epoch 126/250\n",
            "2128/2129 [============================>.] - ETA: 0s - loss: 0.2160 - accuracy: 0.9207\n",
            "Epoch 126: val_accuracy did not improve from 0.93005\n",
            "2129/2129 [==============================] - 63s 30ms/step - loss: 0.2160 - accuracy: 0.9207 - val_loss: 0.2133 - val_accuracy: 0.9300\n",
            "Epoch 127/250\n",
            "2128/2129 [============================>.] - ETA: 0s - loss: 0.2124 - accuracy: 0.9219\n",
            "Epoch 127: val_accuracy improved from 0.93005 to 0.93087, saving model to model.ckpt\n",
            "2129/2129 [==============================] - 63s 30ms/step - loss: 0.2124 - accuracy: 0.9219 - val_loss: 0.2078 - val_accuracy: 0.9309\n",
            "Epoch 128/250\n",
            "2128/2129 [============================>.] - ETA: 0s - loss: 0.2107 - accuracy: 0.9222\n",
            "Epoch 128: val_accuracy did not improve from 0.93087\n",
            "2129/2129 [==============================] - 63s 30ms/step - loss: 0.2107 - accuracy: 0.9222 - val_loss: 0.2172 - val_accuracy: 0.9292\n",
            "Epoch 129/250\n",
            "2128/2129 [============================>.] - ETA: 0s - loss: 0.2054 - accuracy: 0.9248\n",
            "Epoch 129: val_accuracy did not improve from 0.93087\n",
            "2129/2129 [==============================] - 64s 30ms/step - loss: 0.2053 - accuracy: 0.9249 - val_loss: 0.2100 - val_accuracy: 0.9302\n",
            "Epoch 130/250\n",
            "2127/2129 [============================>.] - ETA: 0s - loss: 0.2105 - accuracy: 0.9233\n",
            "Epoch 130: val_accuracy did not improve from 0.93087\n",
            "2129/2129 [==============================] - 63s 30ms/step - loss: 0.2105 - accuracy: 0.9233 - val_loss: 0.2138 - val_accuracy: 0.9291\n",
            "Epoch 131/250\n",
            "2127/2129 [============================>.] - ETA: 0s - loss: 0.2044 - accuracy: 0.9249\n",
            "Epoch 131: val_accuracy did not improve from 0.93087\n",
            "2129/2129 [==============================] - 62s 29ms/step - loss: 0.2044 - accuracy: 0.9249 - val_loss: 0.2160 - val_accuracy: 0.9281\n",
            "Epoch 132/250\n",
            "2129/2129 [==============================] - ETA: 0s - loss: 0.2056 - accuracy: 0.9247\n",
            "Epoch 132: val_accuracy did not improve from 0.93087\n",
            "2129/2129 [==============================] - 63s 30ms/step - loss: 0.2056 - accuracy: 0.9247 - val_loss: 0.2081 - val_accuracy: 0.9305\n",
            "Epoch 133/250\n",
            "2127/2129 [============================>.] - ETA: 0s - loss: 0.2042 - accuracy: 0.9264\n",
            "Epoch 133: val_accuracy improved from 0.93087 to 0.93111, saving model to model.ckpt\n",
            "2129/2129 [==============================] - 64s 30ms/step - loss: 0.2042 - accuracy: 0.9264 - val_loss: 0.2106 - val_accuracy: 0.9311\n",
            "Epoch 134/250\n",
            "2127/2129 [============================>.] - ETA: 0s - loss: 0.2078 - accuracy: 0.9247\n",
            "Epoch 134: val_accuracy did not improve from 0.93111\n",
            "2129/2129 [==============================] - 64s 30ms/step - loss: 0.2078 - accuracy: 0.9246 - val_loss: 0.2112 - val_accuracy: 0.9293\n",
            "Epoch 135/250\n",
            "2127/2129 [============================>.] - ETA: 0s - loss: 0.2040 - accuracy: 0.9266\n",
            "Epoch 135: val_accuracy improved from 0.93111 to 0.93170, saving model to model.ckpt\n",
            "2129/2129 [==============================] - 63s 29ms/step - loss: 0.2039 - accuracy: 0.9266 - val_loss: 0.2096 - val_accuracy: 0.9317\n",
            "Epoch 136/250\n",
            "2127/2129 [============================>.] - ETA: 0s - loss: 0.2040 - accuracy: 0.9243\n",
            "Epoch 136: val_accuracy did not improve from 0.93170\n",
            "2129/2129 [==============================] - 63s 30ms/step - loss: 0.2040 - accuracy: 0.9243 - val_loss: 0.2193 - val_accuracy: 0.9272\n",
            "Epoch 137/250\n",
            "2127/2129 [============================>.] - ETA: 0s - loss: 0.1988 - accuracy: 0.9279\n",
            "Epoch 137: val_accuracy improved from 0.93170 to 0.93187, saving model to model.ckpt\n",
            "2129/2129 [==============================] - 63s 30ms/step - loss: 0.1988 - accuracy: 0.9279 - val_loss: 0.2095 - val_accuracy: 0.9319\n",
            "Epoch 138/250\n",
            "2127/2129 [============================>.] - ETA: 0s - loss: 0.2028 - accuracy: 0.9261\n",
            "Epoch 138: val_accuracy did not improve from 0.93187\n",
            "2129/2129 [==============================] - 63s 29ms/step - loss: 0.2028 - accuracy: 0.9261 - val_loss: 0.2053 - val_accuracy: 0.9315\n",
            "Epoch 139/250\n",
            "2127/2129 [============================>.] - ETA: 0s - loss: 0.1999 - accuracy: 0.9271\n",
            "Epoch 139: val_accuracy did not improve from 0.93187\n",
            "2129/2129 [==============================] - 64s 30ms/step - loss: 0.1999 - accuracy: 0.9271 - val_loss: 0.2077 - val_accuracy: 0.9313\n",
            "Epoch 140/250\n",
            "2127/2129 [============================>.] - ETA: 0s - loss: 0.1988 - accuracy: 0.9277\n",
            "Epoch 140: val_accuracy did not improve from 0.93187\n",
            "2129/2129 [==============================] - 63s 30ms/step - loss: 0.1988 - accuracy: 0.9277 - val_loss: 0.2024 - val_accuracy: 0.9310\n",
            "Epoch 141/250\n",
            "2127/2129 [============================>.] - ETA: 0s - loss: 0.1993 - accuracy: 0.9278\n",
            "Epoch 141: val_accuracy improved from 0.93187 to 0.93281, saving model to model.ckpt\n",
            "2129/2129 [==============================] - 64s 30ms/step - loss: 0.1993 - accuracy: 0.9278 - val_loss: 0.2039 - val_accuracy: 0.9328\n",
            "Epoch 142/250\n",
            "2128/2129 [============================>.] - ETA: 0s - loss: 0.1972 - accuracy: 0.9288\n",
            "Epoch 142: val_accuracy did not improve from 0.93281\n",
            "2129/2129 [==============================] - 63s 29ms/step - loss: 0.1972 - accuracy: 0.9288 - val_loss: 0.2129 - val_accuracy: 0.9308\n",
            "Epoch 143/250\n",
            "2127/2129 [============================>.] - ETA: 0s - loss: 0.1967 - accuracy: 0.9285\n",
            "Epoch 143: val_accuracy did not improve from 0.93281\n",
            "2129/2129 [==============================] - 62s 29ms/step - loss: 0.1967 - accuracy: 0.9285 - val_loss: 0.2126 - val_accuracy: 0.9315\n",
            "Epoch 144/250\n",
            "2127/2129 [============================>.] - ETA: 0s - loss: 0.1971 - accuracy: 0.9281\n",
            "Epoch 144: val_accuracy improved from 0.93281 to 0.93322, saving model to model.ckpt\n",
            "2129/2129 [==============================] - 63s 30ms/step - loss: 0.1970 - accuracy: 0.9282 - val_loss: 0.1995 - val_accuracy: 0.9332\n",
            "Epoch 145/250\n",
            "2127/2129 [============================>.] - ETA: 0s - loss: 0.1966 - accuracy: 0.9289\n",
            "Epoch 145: val_accuracy did not improve from 0.93322\n",
            "2129/2129 [==============================] - 64s 30ms/step - loss: 0.1966 - accuracy: 0.9289 - val_loss: 0.2129 - val_accuracy: 0.9287\n",
            "Epoch 146/250\n",
            "2128/2129 [============================>.] - ETA: 0s - loss: 0.1981 - accuracy: 0.9275\n",
            "Epoch 146: val_accuracy did not improve from 0.93322\n",
            "2129/2129 [==============================] - 62s 29ms/step - loss: 0.1982 - accuracy: 0.9275 - val_loss: 0.2118 - val_accuracy: 0.9316\n",
            "Epoch 147/250\n",
            "2128/2129 [============================>.] - ETA: 0s - loss: 0.1950 - accuracy: 0.9304\n",
            "Epoch 147: val_accuracy did not improve from 0.93322\n",
            "2129/2129 [==============================] - 63s 29ms/step - loss: 0.1950 - accuracy: 0.9304 - val_loss: 0.2052 - val_accuracy: 0.9310\n",
            "Epoch 148/250\n",
            "2128/2129 [============================>.] - ETA: 0s - loss: 0.1935 - accuracy: 0.9293\n",
            "Epoch 148: val_accuracy did not improve from 0.93322\n",
            "2129/2129 [==============================] - 63s 30ms/step - loss: 0.1935 - accuracy: 0.9293 - val_loss: 0.2131 - val_accuracy: 0.9299\n",
            "Epoch 149/250\n",
            "2128/2129 [============================>.] - ETA: 0s - loss: 0.1931 - accuracy: 0.9302\n",
            "Epoch 149: val_accuracy did not improve from 0.93322\n",
            "2129/2129 [==============================] - 62s 29ms/step - loss: 0.1930 - accuracy: 0.9303 - val_loss: 0.2053 - val_accuracy: 0.9303\n",
            "Epoch 150/250\n",
            "2127/2129 [============================>.] - ETA: 0s - loss: 0.1923 - accuracy: 0.9302\n",
            "Epoch 150: val_accuracy did not improve from 0.93322\n",
            "2129/2129 [==============================] - 63s 30ms/step - loss: 0.1922 - accuracy: 0.9302 - val_loss: 0.2089 - val_accuracy: 0.9313\n",
            "Epoch 151/250\n",
            "2129/2129 [==============================] - ETA: 0s - loss: 0.1942 - accuracy: 0.9293\n",
            "Epoch 151: val_accuracy did not improve from 0.93322\n",
            "2129/2129 [==============================] - 63s 30ms/step - loss: 0.1942 - accuracy: 0.9293 - val_loss: 0.2057 - val_accuracy: 0.9313\n",
            "Epoch 152/250\n",
            "2127/2129 [============================>.] - ETA: 0s - loss: 0.1920 - accuracy: 0.9301\n",
            "Epoch 152: val_accuracy did not improve from 0.93322\n",
            "2129/2129 [==============================] - 63s 29ms/step - loss: 0.1919 - accuracy: 0.9301 - val_loss: 0.2137 - val_accuracy: 0.9306\n",
            "Epoch 153/250\n",
            "2127/2129 [============================>.] - ETA: 0s - loss: 0.1918 - accuracy: 0.9309\n",
            "Epoch 153: val_accuracy did not improve from 0.93322\n",
            "2129/2129 [==============================] - 63s 30ms/step - loss: 0.1919 - accuracy: 0.9309 - val_loss: 0.2132 - val_accuracy: 0.9326\n",
            "Epoch 154/250\n",
            "2127/2129 [============================>.] - ETA: 0s - loss: 0.1918 - accuracy: 0.9305\n",
            "Epoch 154: val_accuracy did not improve from 0.93322\n",
            "2129/2129 [==============================] - 62s 29ms/step - loss: 0.1918 - accuracy: 0.9305 - val_loss: 0.2095 - val_accuracy: 0.9304\n",
            "Epoch 155/250\n",
            "2127/2129 [============================>.] - ETA: 0s - loss: 0.1892 - accuracy: 0.9317\n",
            "Epoch 155: val_accuracy did not improve from 0.93322\n",
            "2129/2129 [==============================] - 63s 30ms/step - loss: 0.1891 - accuracy: 0.9318 - val_loss: 0.2075 - val_accuracy: 0.9309\n",
            "Epoch 156/250\n",
            "2127/2129 [============================>.] - ETA: 0s - loss: 0.1870 - accuracy: 0.9319\n",
            "Epoch 156: val_accuracy did not improve from 0.93322\n",
            "2129/2129 [==============================] - 64s 30ms/step - loss: 0.1870 - accuracy: 0.9319 - val_loss: 0.2117 - val_accuracy: 0.9307\n",
            "Epoch 157/250\n",
            "2127/2129 [============================>.] - ETA: 0s - loss: 0.1913 - accuracy: 0.9303\n",
            "Epoch 157: val_accuracy did not improve from 0.93322\n",
            "2129/2129 [==============================] - 64s 30ms/step - loss: 0.1913 - accuracy: 0.9303 - val_loss: 0.2092 - val_accuracy: 0.9310\n",
            "Epoch 158/250\n",
            "2128/2129 [============================>.] - ETA: 0s - loss: 0.1914 - accuracy: 0.9306\n",
            "Epoch 158: val_accuracy did not improve from 0.93322\n",
            "2129/2129 [==============================] - 64s 30ms/step - loss: 0.1914 - accuracy: 0.9306 - val_loss: 0.2145 - val_accuracy: 0.9281\n",
            "Epoch 159/250\n",
            "2127/2129 [============================>.] - ETA: 0s - loss: 0.1878 - accuracy: 0.9322\n",
            "Epoch 159: val_accuracy did not improve from 0.93322\n",
            "2129/2129 [==============================] - 64s 30ms/step - loss: 0.1878 - accuracy: 0.9323 - val_loss: 0.2057 - val_accuracy: 0.9312\n",
            "Epoch 160/250\n",
            "2127/2129 [============================>.] - ETA: 0s - loss: 0.1850 - accuracy: 0.9322\n",
            "Epoch 160: val_accuracy did not improve from 0.93322\n",
            "2129/2129 [==============================] - 63s 30ms/step - loss: 0.1850 - accuracy: 0.9322 - val_loss: 0.2092 - val_accuracy: 0.9324\n",
            "Epoch 161/250\n",
            "2127/2129 [============================>.] - ETA: 0s - loss: 0.1861 - accuracy: 0.9316\n",
            "Epoch 161: val_accuracy did not improve from 0.93322\n",
            "2129/2129 [==============================] - 64s 30ms/step - loss: 0.1861 - accuracy: 0.9316 - val_loss: 0.2070 - val_accuracy: 0.9322\n",
            "Epoch 162/250\n",
            "2128/2129 [============================>.] - ETA: 0s - loss: 0.1837 - accuracy: 0.9342\n",
            "Epoch 162: val_accuracy did not improve from 0.93322\n",
            "2129/2129 [==============================] - 64s 30ms/step - loss: 0.1837 - accuracy: 0.9342 - val_loss: 0.2086 - val_accuracy: 0.9320\n",
            "Epoch 163/250\n",
            "2127/2129 [============================>.] - ETA: 0s - loss: 0.1829 - accuracy: 0.9339\n",
            "Epoch 163: val_accuracy improved from 0.93322 to 0.93346, saving model to model.ckpt\n",
            "2129/2129 [==============================] - 65s 30ms/step - loss: 0.1828 - accuracy: 0.9339 - val_loss: 0.2072 - val_accuracy: 0.9335\n",
            "Epoch 164/250\n",
            "2128/2129 [============================>.] - ETA: 0s - loss: 0.1823 - accuracy: 0.9330\n",
            "Epoch 164: val_accuracy did not improve from 0.93346\n",
            "2129/2129 [==============================] - 64s 30ms/step - loss: 0.1823 - accuracy: 0.9330 - val_loss: 0.2033 - val_accuracy: 0.9316\n",
            "Epoch 165/250\n",
            "2127/2129 [============================>.] - ETA: 0s - loss: 0.1831 - accuracy: 0.9338\n",
            "Epoch 165: val_accuracy improved from 0.93346 to 0.93399, saving model to model.ckpt\n",
            "2129/2129 [==============================] - 64s 30ms/step - loss: 0.1831 - accuracy: 0.9338 - val_loss: 0.2031 - val_accuracy: 0.9340\n",
            "Epoch 166/250\n",
            "2128/2129 [============================>.] - ETA: 0s - loss: 0.1828 - accuracy: 0.9340\n",
            "Epoch 166: val_accuracy did not improve from 0.93399\n",
            "2129/2129 [==============================] - 64s 30ms/step - loss: 0.1828 - accuracy: 0.9340 - val_loss: 0.2074 - val_accuracy: 0.9331\n",
            "Epoch 167/250\n",
            "2127/2129 [============================>.] - ETA: 0s - loss: 0.1777 - accuracy: 0.9367\n",
            "Epoch 167: val_accuracy did not improve from 0.93399\n",
            "2129/2129 [==============================] - 64s 30ms/step - loss: 0.1777 - accuracy: 0.9367 - val_loss: 0.2122 - val_accuracy: 0.9325\n",
            "Epoch 168/250\n",
            "2128/2129 [============================>.] - ETA: 0s - loss: 0.1821 - accuracy: 0.9335\n",
            "Epoch 168: val_accuracy did not improve from 0.93399\n",
            "2129/2129 [==============================] - 63s 29ms/step - loss: 0.1821 - accuracy: 0.9335 - val_loss: 0.2050 - val_accuracy: 0.9326\n",
            "Epoch 169/250\n",
            "2128/2129 [============================>.] - ETA: 0s - loss: 0.1789 - accuracy: 0.9357\n",
            "Epoch 169: val_accuracy improved from 0.93399 to 0.93440, saving model to model.ckpt\n",
            "2129/2129 [==============================] - 64s 30ms/step - loss: 0.1789 - accuracy: 0.9357 - val_loss: 0.2062 - val_accuracy: 0.9344\n",
            "Epoch 170/250\n",
            "2127/2129 [============================>.] - ETA: 0s - loss: 0.1820 - accuracy: 0.9348\n",
            "Epoch 170: val_accuracy did not improve from 0.93440\n",
            "2129/2129 [==============================] - 63s 29ms/step - loss: 0.1819 - accuracy: 0.9348 - val_loss: 0.1992 - val_accuracy: 0.9344\n",
            "Epoch 171/250\n",
            "2128/2129 [============================>.] - ETA: 0s - loss: 0.1732 - accuracy: 0.9373\n",
            "Epoch 171: val_accuracy did not improve from 0.93440\n",
            "2129/2129 [==============================] - 64s 30ms/step - loss: 0.1732 - accuracy: 0.9373 - val_loss: 0.2085 - val_accuracy: 0.9304\n",
            "Epoch 172/250\n",
            "2128/2129 [============================>.] - ETA: 0s - loss: 0.1795 - accuracy: 0.9356\n",
            "Epoch 172: val_accuracy did not improve from 0.93440\n",
            "2129/2129 [==============================] - 64s 30ms/step - loss: 0.1795 - accuracy: 0.9356 - val_loss: 0.2182 - val_accuracy: 0.9285\n",
            "Epoch 173/250\n",
            "2127/2129 [============================>.] - ETA: 0s - loss: 0.1777 - accuracy: 0.9367\n",
            "Epoch 173: val_accuracy did not improve from 0.93440\n",
            "2129/2129 [==============================] - 64s 30ms/step - loss: 0.1778 - accuracy: 0.9367 - val_loss: 0.2038 - val_accuracy: 0.9329\n",
            "Epoch 174/250\n",
            "2128/2129 [============================>.] - ETA: 0s - loss: 0.1795 - accuracy: 0.9354\n",
            "Epoch 174: val_accuracy did not improve from 0.93440\n",
            "2129/2129 [==============================] - 64s 30ms/step - loss: 0.1795 - accuracy: 0.9354 - val_loss: 0.2024 - val_accuracy: 0.9340\n",
            "Epoch 175/250\n",
            "2128/2129 [============================>.] - ETA: 0s - loss: 0.1784 - accuracy: 0.9358\n",
            "Epoch 175: val_accuracy did not improve from 0.93440\n",
            "2129/2129 [==============================] - 63s 30ms/step - loss: 0.1784 - accuracy: 0.9358 - val_loss: 0.2074 - val_accuracy: 0.9300\n",
            "Epoch 176/250\n",
            "2127/2129 [============================>.] - ETA: 0s - loss: 0.1711 - accuracy: 0.9383\n",
            "Epoch 176: val_accuracy did not improve from 0.93440\n",
            "2129/2129 [==============================] - 64s 30ms/step - loss: 0.1711 - accuracy: 0.9383 - val_loss: 0.2096 - val_accuracy: 0.9326\n",
            "Epoch 177/250\n",
            "2127/2129 [============================>.] - ETA: 0s - loss: 0.1784 - accuracy: 0.9352\n",
            "Epoch 177: val_accuracy did not improve from 0.93440\n",
            "2129/2129 [==============================] - 62s 29ms/step - loss: 0.1784 - accuracy: 0.9351 - val_loss: 0.2103 - val_accuracy: 0.9313\n",
            "Epoch 178/250\n",
            "2127/2129 [============================>.] - ETA: 0s - loss: 0.1734 - accuracy: 0.9384\n",
            "Epoch 178: val_accuracy did not improve from 0.93440\n",
            "2129/2129 [==============================] - 63s 29ms/step - loss: 0.1733 - accuracy: 0.9384 - val_loss: 0.2040 - val_accuracy: 0.9332\n",
            "Epoch 179/250\n",
            "2127/2129 [============================>.] - ETA: 0s - loss: 0.1770 - accuracy: 0.9358\n",
            "Epoch 179: val_accuracy did not improve from 0.93440\n",
            "2129/2129 [==============================] - 64s 30ms/step - loss: 0.1770 - accuracy: 0.9358 - val_loss: 0.2055 - val_accuracy: 0.9336\n",
            "Epoch 180/250\n",
            "2127/2129 [============================>.] - ETA: 0s - loss: 0.1747 - accuracy: 0.9367\n",
            "Epoch 180: val_accuracy did not improve from 0.93440\n",
            "2129/2129 [==============================] - 63s 29ms/step - loss: 0.1747 - accuracy: 0.9367 - val_loss: 0.2102 - val_accuracy: 0.9312\n",
            "Epoch 181/250\n",
            "2127/2129 [============================>.] - ETA: 0s - loss: 0.1731 - accuracy: 0.9371\n",
            "Epoch 181: val_accuracy did not improve from 0.93440\n",
            "2129/2129 [==============================] - 63s 29ms/step - loss: 0.1731 - accuracy: 0.9371 - val_loss: 0.2137 - val_accuracy: 0.9320\n",
            "Epoch 182/250\n",
            "2129/2129 [==============================] - ETA: 0s - loss: 0.1712 - accuracy: 0.9380\n",
            "Epoch 182: val_accuracy did not improve from 0.93440\n",
            "2129/2129 [==============================] - 64s 30ms/step - loss: 0.1712 - accuracy: 0.9380 - val_loss: 0.2041 - val_accuracy: 0.9343\n",
            "Epoch 183/250\n",
            "2127/2129 [============================>.] - ETA: 0s - loss: 0.1714 - accuracy: 0.9385\n",
            "Epoch 183: val_accuracy did not improve from 0.93440\n",
            "2129/2129 [==============================] - 63s 30ms/step - loss: 0.1714 - accuracy: 0.9385 - val_loss: 0.2134 - val_accuracy: 0.9309\n",
            "Epoch 184/250\n",
            "2127/2129 [============================>.] - ETA: 0s - loss: 0.1766 - accuracy: 0.9365\n",
            "Epoch 184: val_accuracy did not improve from 0.93440\n",
            "2129/2129 [==============================] - 63s 29ms/step - loss: 0.1767 - accuracy: 0.9365 - val_loss: 0.2146 - val_accuracy: 0.9306\n",
            "Epoch 185/250\n",
            "2127/2129 [============================>.] - ETA: 0s - loss: 0.1701 - accuracy: 0.9376\n",
            "Epoch 185: val_accuracy did not improve from 0.93440\n",
            "2129/2129 [==============================] - 62s 29ms/step - loss: 0.1701 - accuracy: 0.9376 - val_loss: 0.2084 - val_accuracy: 0.9319\n",
            "Epoch 186/250\n",
            "2127/2129 [============================>.] - ETA: 0s - loss: 0.1729 - accuracy: 0.9370\n",
            "Epoch 186: val_accuracy did not improve from 0.93440\n",
            "2129/2129 [==============================] - 63s 30ms/step - loss: 0.1729 - accuracy: 0.9370 - val_loss: 0.2137 - val_accuracy: 0.9311\n",
            "Epoch 187/250\n",
            "2127/2129 [============================>.] - ETA: 0s - loss: 0.1703 - accuracy: 0.9382\n",
            "Epoch 187: val_accuracy did not improve from 0.93440\n",
            "2129/2129 [==============================] - 64s 30ms/step - loss: 0.1703 - accuracy: 0.9382 - val_loss: 0.2138 - val_accuracy: 0.9308\n",
            "Epoch 188/250\n",
            "2127/2129 [============================>.] - ETA: 0s - loss: 0.1722 - accuracy: 0.9379\n",
            "Epoch 188: val_accuracy did not improve from 0.93440\n",
            "2129/2129 [==============================] - 64s 30ms/step - loss: 0.1723 - accuracy: 0.9379 - val_loss: 0.2054 - val_accuracy: 0.9335\n",
            "Epoch 189/250\n",
            "2128/2129 [============================>.] - ETA: 0s - loss: 0.1696 - accuracy: 0.9400\n",
            "Epoch 189: val_accuracy did not improve from 0.93440\n",
            "2129/2129 [==============================] - 64s 30ms/step - loss: 0.1696 - accuracy: 0.9401 - val_loss: 0.2108 - val_accuracy: 0.9329\n",
            "Epoch 190/250\n",
            "2128/2129 [============================>.] - ETA: 0s - loss: 0.1680 - accuracy: 0.9388\n",
            "Epoch 190: val_accuracy did not improve from 0.93440\n",
            "2129/2129 [==============================] - 63s 29ms/step - loss: 0.1680 - accuracy: 0.9388 - val_loss: 0.2061 - val_accuracy: 0.9343\n",
            "Epoch 191/250\n",
            "2127/2129 [============================>.] - ETA: 0s - loss: 0.1685 - accuracy: 0.9390\n",
            "Epoch 191: val_accuracy did not improve from 0.93440\n",
            "2129/2129 [==============================] - 64s 30ms/step - loss: 0.1684 - accuracy: 0.9391 - val_loss: 0.2069 - val_accuracy: 0.9342\n",
            "Epoch 192/250\n",
            "2127/2129 [============================>.] - ETA: 0s - loss: 0.1682 - accuracy: 0.9392\n",
            "Epoch 192: val_accuracy improved from 0.93440 to 0.93522, saving model to model.ckpt\n",
            "2129/2129 [==============================] - 64s 30ms/step - loss: 0.1682 - accuracy: 0.9392 - val_loss: 0.2000 - val_accuracy: 0.9352\n",
            "Epoch 193/250\n",
            "2127/2129 [============================>.] - ETA: 0s - loss: 0.1693 - accuracy: 0.9395\n",
            "Epoch 193: val_accuracy did not improve from 0.93522\n",
            "2129/2129 [==============================] - 63s 30ms/step - loss: 0.1693 - accuracy: 0.9395 - val_loss: 0.2005 - val_accuracy: 0.9346\n",
            "Epoch 194/250\n",
            "2127/2129 [============================>.] - ETA: 0s - loss: 0.1667 - accuracy: 0.9401\n",
            "Epoch 194: val_accuracy did not improve from 0.93522\n",
            "2129/2129 [==============================] - 62s 29ms/step - loss: 0.1666 - accuracy: 0.9401 - val_loss: 0.2112 - val_accuracy: 0.9315\n",
            "Epoch 195/250\n",
            "2127/2129 [============================>.] - ETA: 0s - loss: 0.1677 - accuracy: 0.9391\n",
            "Epoch 195: val_accuracy did not improve from 0.93522\n",
            "2129/2129 [==============================] - 63s 30ms/step - loss: 0.1677 - accuracy: 0.9391 - val_loss: 0.2146 - val_accuracy: 0.9326\n",
            "Epoch 196/250\n",
            "2127/2129 [============================>.] - ETA: 0s - loss: 0.1660 - accuracy: 0.9396\n",
            "Epoch 196: val_accuracy did not improve from 0.93522\n",
            "2129/2129 [==============================] - 64s 30ms/step - loss: 0.1660 - accuracy: 0.9396 - val_loss: 0.2063 - val_accuracy: 0.9351\n",
            "Epoch 197/250\n",
            "2128/2129 [============================>.] - ETA: 0s - loss: 0.1646 - accuracy: 0.9415\n",
            "Epoch 197: val_accuracy did not improve from 0.93522\n",
            "2129/2129 [==============================] - 63s 29ms/step - loss: 0.1646 - accuracy: 0.9415 - val_loss: 0.2097 - val_accuracy: 0.9327\n",
            "Epoch 198/250\n",
            "2127/2129 [============================>.] - ETA: 0s - loss: 0.1650 - accuracy: 0.9406\n",
            "Epoch 198: val_accuracy did not improve from 0.93522\n",
            "2129/2129 [==============================] - 64s 30ms/step - loss: 0.1650 - accuracy: 0.9406 - val_loss: 0.2056 - val_accuracy: 0.9350\n",
            "Epoch 199/250\n",
            "2127/2129 [============================>.] - ETA: 0s - loss: 0.1626 - accuracy: 0.9414\n",
            "Epoch 199: val_accuracy did not improve from 0.93522\n",
            "2129/2129 [==============================] - 64s 30ms/step - loss: 0.1626 - accuracy: 0.9414 - val_loss: 0.2078 - val_accuracy: 0.9343\n",
            "Epoch 200/250\n",
            "2127/2129 [============================>.] - ETA: 0s - loss: 0.1628 - accuracy: 0.9412\n",
            "Epoch 200: val_accuracy did not improve from 0.93522\n",
            "2129/2129 [==============================] - 63s 29ms/step - loss: 0.1629 - accuracy: 0.9411 - val_loss: 0.2085 - val_accuracy: 0.9346\n",
            "Epoch 201/250\n",
            "2127/2129 [============================>.] - ETA: 0s - loss: 0.1650 - accuracy: 0.9413\n",
            "Epoch 201: val_accuracy improved from 0.93522 to 0.93581, saving model to model.ckpt\n",
            "2129/2129 [==============================] - 64s 30ms/step - loss: 0.1650 - accuracy: 0.9413 - val_loss: 0.2035 - val_accuracy: 0.9358\n",
            "Epoch 202/250\n",
            "2127/2129 [============================>.] - ETA: 0s - loss: 0.1635 - accuracy: 0.9414\n",
            "Epoch 202: val_accuracy did not improve from 0.93581\n",
            "2129/2129 [==============================] - 62s 29ms/step - loss: 0.1634 - accuracy: 0.9414 - val_loss: 0.2099 - val_accuracy: 0.9338\n",
            "Epoch 203/250\n",
            "2127/2129 [============================>.] - ETA: 0s - loss: 0.1636 - accuracy: 0.9410\n",
            "Epoch 203: val_accuracy improved from 0.93581 to 0.93598, saving model to model.ckpt\n",
            "2129/2129 [==============================] - 63s 30ms/step - loss: 0.1635 - accuracy: 0.9410 - val_loss: 0.2048 - val_accuracy: 0.9360\n",
            "Epoch 204/250\n",
            "2129/2129 [==============================] - ETA: 0s - loss: 0.1633 - accuracy: 0.9406\n",
            "Epoch 204: val_accuracy improved from 0.93598 to 0.93663, saving model to model.ckpt\n",
            "2129/2129 [==============================] - 64s 30ms/step - loss: 0.1633 - accuracy: 0.9406 - val_loss: 0.2017 - val_accuracy: 0.9366\n",
            "Epoch 205/250\n",
            "2128/2129 [============================>.] - ETA: 0s - loss: 0.1595 - accuracy: 0.9424\n",
            "Epoch 205: val_accuracy did not improve from 0.93663\n",
            "2129/2129 [==============================] - 64s 30ms/step - loss: 0.1595 - accuracy: 0.9425 - val_loss: 0.2057 - val_accuracy: 0.9342\n",
            "Epoch 206/250\n",
            "2129/2129 [==============================] - ETA: 0s - loss: 0.1591 - accuracy: 0.9425\n",
            "Epoch 206: val_accuracy did not improve from 0.93663\n",
            "2129/2129 [==============================] - 63s 29ms/step - loss: 0.1591 - accuracy: 0.9425 - val_loss: 0.2029 - val_accuracy: 0.9353\n",
            "Epoch 207/250\n",
            "2127/2129 [============================>.] - ETA: 0s - loss: 0.1592 - accuracy: 0.9428\n",
            "Epoch 207: val_accuracy did not improve from 0.93663\n",
            "2129/2129 [==============================] - 64s 30ms/step - loss: 0.1592 - accuracy: 0.9428 - val_loss: 0.2079 - val_accuracy: 0.9345\n",
            "Epoch 208/250\n",
            "2127/2129 [============================>.] - ETA: 0s - loss: 0.1590 - accuracy: 0.9436\n",
            "Epoch 208: val_accuracy did not improve from 0.93663\n",
            "2129/2129 [==============================] - 64s 30ms/step - loss: 0.1590 - accuracy: 0.9436 - val_loss: 0.2086 - val_accuracy: 0.9330\n",
            "Epoch 209/250\n",
            "2127/2129 [============================>.] - ETA: 0s - loss: 0.1613 - accuracy: 0.9417\n",
            "Epoch 209: val_accuracy did not improve from 0.93663\n",
            "2129/2129 [==============================] - 64s 30ms/step - loss: 0.1613 - accuracy: 0.9417 - val_loss: 0.2145 - val_accuracy: 0.9322\n",
            "Epoch 210/250\n",
            " 209/2129 [=>............................] - ETA: 52s - loss: 0.1477 - accuracy: 0.9480"
          ]
        },
        {
          "output_type": "error",
          "ename": "KeyboardInterrupt",
          "evalue": "ignored",
          "traceback": [
            "\u001b[0;31m---------------------------------------------------------------------------\u001b[0m",
            "\u001b[0;31mKeyboardInterrupt\u001b[0m                         Traceback (most recent call last)",
            "\u001b[0;32m<ipython-input-30-8738519ef60f>\u001b[0m in \u001b[0;36m<module>\u001b[0;34m\u001b[0m\n\u001b[0;32m----> 1\u001b[0;31m cnnhistory = model.fit(x_train, y_train,\n\u001b[0m\u001b[1;32m      2\u001b[0m                         \u001b[0mbatch_size\u001b[0m \u001b[0;34m=\u001b[0m \u001b[0;36m32\u001b[0m\u001b[0;34m,\u001b[0m\u001b[0;34m\u001b[0m\u001b[0;34m\u001b[0m\u001b[0m\n\u001b[1;32m      3\u001b[0m                         \u001b[0mvalidation_data\u001b[0m\u001b[0;34m=\u001b[0m\u001b[0;34m(\u001b[0m\u001b[0mx_test\u001b[0m\u001b[0;34m,\u001b[0m \u001b[0my_test\u001b[0m\u001b[0;34m)\u001b[0m\u001b[0;34m,\u001b[0m\u001b[0;34m\u001b[0m\u001b[0;34m\u001b[0m\u001b[0m\n\u001b[1;32m      4\u001b[0m                         \u001b[0mepochs\u001b[0m \u001b[0;34m=\u001b[0m \u001b[0;36m250\u001b[0m\u001b[0;34m,\u001b[0m\u001b[0;34m\u001b[0m\u001b[0;34m\u001b[0m\u001b[0m\n\u001b[1;32m      5\u001b[0m                         \u001b[0mcallbacks\u001b[0m\u001b[0;34m=\u001b[0m\u001b[0;34m[\u001b[0m\u001b[0mmc\u001b[0m\u001b[0;34m,\u001b[0m \u001b[0mtfboard\u001b[0m\u001b[0;34m]\u001b[0m\u001b[0;34m,\u001b[0m\u001b[0;34m\u001b[0m\u001b[0;34m\u001b[0m\u001b[0m\n",
            "\u001b[0;32m/usr/local/lib/python3.8/dist-packages/keras/utils/traceback_utils.py\u001b[0m in \u001b[0;36merror_handler\u001b[0;34m(*args, **kwargs)\u001b[0m\n\u001b[1;32m     63\u001b[0m         \u001b[0mfiltered_tb\u001b[0m \u001b[0;34m=\u001b[0m \u001b[0;32mNone\u001b[0m\u001b[0;34m\u001b[0m\u001b[0;34m\u001b[0m\u001b[0m\n\u001b[1;32m     64\u001b[0m         \u001b[0;32mtry\u001b[0m\u001b[0;34m:\u001b[0m\u001b[0;34m\u001b[0m\u001b[0;34m\u001b[0m\u001b[0m\n\u001b[0;32m---> 65\u001b[0;31m             \u001b[0;32mreturn\u001b[0m \u001b[0mfn\u001b[0m\u001b[0;34m(\u001b[0m\u001b[0;34m*\u001b[0m\u001b[0margs\u001b[0m\u001b[0;34m,\u001b[0m \u001b[0;34m**\u001b[0m\u001b[0mkwargs\u001b[0m\u001b[0;34m)\u001b[0m\u001b[0;34m\u001b[0m\u001b[0;34m\u001b[0m\u001b[0m\n\u001b[0m\u001b[1;32m     66\u001b[0m         \u001b[0;32mexcept\u001b[0m \u001b[0mException\u001b[0m \u001b[0;32mas\u001b[0m \u001b[0me\u001b[0m\u001b[0;34m:\u001b[0m\u001b[0;34m\u001b[0m\u001b[0;34m\u001b[0m\u001b[0m\n\u001b[1;32m     67\u001b[0m             \u001b[0mfiltered_tb\u001b[0m \u001b[0;34m=\u001b[0m \u001b[0m_process_traceback_frames\u001b[0m\u001b[0;34m(\u001b[0m\u001b[0me\u001b[0m\u001b[0;34m.\u001b[0m\u001b[0m__traceback__\u001b[0m\u001b[0;34m)\u001b[0m\u001b[0;34m\u001b[0m\u001b[0;34m\u001b[0m\u001b[0m\n",
            "\u001b[0;32m/usr/local/lib/python3.8/dist-packages/keras/engine/training.py\u001b[0m in \u001b[0;36mfit\u001b[0;34m(self, x, y, batch_size, epochs, verbose, callbacks, validation_split, validation_data, shuffle, class_weight, sample_weight, initial_epoch, steps_per_epoch, validation_steps, validation_batch_size, validation_freq, max_queue_size, workers, use_multiprocessing)\u001b[0m\n\u001b[1;32m   1648\u001b[0m                         ):\n\u001b[1;32m   1649\u001b[0m                             \u001b[0mcallbacks\u001b[0m\u001b[0;34m.\u001b[0m\u001b[0mon_train_batch_begin\u001b[0m\u001b[0;34m(\u001b[0m\u001b[0mstep\u001b[0m\u001b[0;34m)\u001b[0m\u001b[0;34m\u001b[0m\u001b[0;34m\u001b[0m\u001b[0m\n\u001b[0;32m-> 1650\u001b[0;31m                             \u001b[0mtmp_logs\u001b[0m \u001b[0;34m=\u001b[0m \u001b[0mself\u001b[0m\u001b[0;34m.\u001b[0m\u001b[0mtrain_function\u001b[0m\u001b[0;34m(\u001b[0m\u001b[0miterator\u001b[0m\u001b[0;34m)\u001b[0m\u001b[0;34m\u001b[0m\u001b[0;34m\u001b[0m\u001b[0m\n\u001b[0m\u001b[1;32m   1651\u001b[0m                             \u001b[0;32mif\u001b[0m \u001b[0mdata_handler\u001b[0m\u001b[0;34m.\u001b[0m\u001b[0mshould_sync\u001b[0m\u001b[0;34m:\u001b[0m\u001b[0;34m\u001b[0m\u001b[0;34m\u001b[0m\u001b[0m\n\u001b[1;32m   1652\u001b[0m                                 \u001b[0mcontext\u001b[0m\u001b[0;34m.\u001b[0m\u001b[0masync_wait\u001b[0m\u001b[0;34m(\u001b[0m\u001b[0;34m)\u001b[0m\u001b[0;34m\u001b[0m\u001b[0;34m\u001b[0m\u001b[0m\n",
            "\u001b[0;32m/usr/local/lib/python3.8/dist-packages/tensorflow/python/util/traceback_utils.py\u001b[0m in \u001b[0;36merror_handler\u001b[0;34m(*args, **kwargs)\u001b[0m\n\u001b[1;32m    148\u001b[0m     \u001b[0mfiltered_tb\u001b[0m \u001b[0;34m=\u001b[0m \u001b[0;32mNone\u001b[0m\u001b[0;34m\u001b[0m\u001b[0;34m\u001b[0m\u001b[0m\n\u001b[1;32m    149\u001b[0m     \u001b[0;32mtry\u001b[0m\u001b[0;34m:\u001b[0m\u001b[0;34m\u001b[0m\u001b[0;34m\u001b[0m\u001b[0m\n\u001b[0;32m--> 150\u001b[0;31m       \u001b[0;32mreturn\u001b[0m \u001b[0mfn\u001b[0m\u001b[0;34m(\u001b[0m\u001b[0;34m*\u001b[0m\u001b[0margs\u001b[0m\u001b[0;34m,\u001b[0m \u001b[0;34m**\u001b[0m\u001b[0mkwargs\u001b[0m\u001b[0;34m)\u001b[0m\u001b[0;34m\u001b[0m\u001b[0;34m\u001b[0m\u001b[0m\n\u001b[0m\u001b[1;32m    151\u001b[0m     \u001b[0;32mexcept\u001b[0m \u001b[0mException\u001b[0m \u001b[0;32mas\u001b[0m \u001b[0me\u001b[0m\u001b[0;34m:\u001b[0m\u001b[0;34m\u001b[0m\u001b[0;34m\u001b[0m\u001b[0m\n\u001b[1;32m    152\u001b[0m       \u001b[0mfiltered_tb\u001b[0m \u001b[0;34m=\u001b[0m \u001b[0m_process_traceback_frames\u001b[0m\u001b[0;34m(\u001b[0m\u001b[0me\u001b[0m\u001b[0;34m.\u001b[0m\u001b[0m__traceback__\u001b[0m\u001b[0;34m)\u001b[0m\u001b[0;34m\u001b[0m\u001b[0;34m\u001b[0m\u001b[0m\n",
            "\u001b[0;32m/usr/local/lib/python3.8/dist-packages/tensorflow/python/eager/polymorphic_function/polymorphic_function.py\u001b[0m in \u001b[0;36m__call__\u001b[0;34m(self, *args, **kwds)\u001b[0m\n\u001b[1;32m    878\u001b[0m \u001b[0;34m\u001b[0m\u001b[0m\n\u001b[1;32m    879\u001b[0m       \u001b[0;32mwith\u001b[0m \u001b[0mOptionalXlaContext\u001b[0m\u001b[0;34m(\u001b[0m\u001b[0mself\u001b[0m\u001b[0;34m.\u001b[0m\u001b[0m_jit_compile\u001b[0m\u001b[0;34m)\u001b[0m\u001b[0;34m:\u001b[0m\u001b[0;34m\u001b[0m\u001b[0;34m\u001b[0m\u001b[0m\n\u001b[0;32m--> 880\u001b[0;31m         \u001b[0mresult\u001b[0m \u001b[0;34m=\u001b[0m \u001b[0mself\u001b[0m\u001b[0;34m.\u001b[0m\u001b[0m_call\u001b[0m\u001b[0;34m(\u001b[0m\u001b[0;34m*\u001b[0m\u001b[0margs\u001b[0m\u001b[0;34m,\u001b[0m \u001b[0;34m**\u001b[0m\u001b[0mkwds\u001b[0m\u001b[0;34m)\u001b[0m\u001b[0;34m\u001b[0m\u001b[0;34m\u001b[0m\u001b[0m\n\u001b[0m\u001b[1;32m    881\u001b[0m \u001b[0;34m\u001b[0m\u001b[0m\n\u001b[1;32m    882\u001b[0m       \u001b[0mnew_tracing_count\u001b[0m \u001b[0;34m=\u001b[0m \u001b[0mself\u001b[0m\u001b[0;34m.\u001b[0m\u001b[0mexperimental_get_tracing_count\u001b[0m\u001b[0;34m(\u001b[0m\u001b[0;34m)\u001b[0m\u001b[0;34m\u001b[0m\u001b[0;34m\u001b[0m\u001b[0m\n",
            "\u001b[0;32m/usr/local/lib/python3.8/dist-packages/tensorflow/python/eager/polymorphic_function/polymorphic_function.py\u001b[0m in \u001b[0;36m_call\u001b[0;34m(self, *args, **kwds)\u001b[0m\n\u001b[1;32m    910\u001b[0m       \u001b[0;31m# In this case we have created variables on the first call, so we run the\u001b[0m\u001b[0;34m\u001b[0m\u001b[0;34m\u001b[0m\u001b[0;34m\u001b[0m\u001b[0m\n\u001b[1;32m    911\u001b[0m       \u001b[0;31m# defunned version which is guaranteed to never create variables.\u001b[0m\u001b[0;34m\u001b[0m\u001b[0;34m\u001b[0m\u001b[0;34m\u001b[0m\u001b[0m\n\u001b[0;32m--> 912\u001b[0;31m       \u001b[0;32mreturn\u001b[0m \u001b[0mself\u001b[0m\u001b[0;34m.\u001b[0m\u001b[0m_no_variable_creation_fn\u001b[0m\u001b[0;34m(\u001b[0m\u001b[0;34m*\u001b[0m\u001b[0margs\u001b[0m\u001b[0;34m,\u001b[0m \u001b[0;34m**\u001b[0m\u001b[0mkwds\u001b[0m\u001b[0;34m)\u001b[0m  \u001b[0;31m# pylint: disable=not-callable\u001b[0m\u001b[0;34m\u001b[0m\u001b[0;34m\u001b[0m\u001b[0m\n\u001b[0m\u001b[1;32m    913\u001b[0m     \u001b[0;32melif\u001b[0m \u001b[0mself\u001b[0m\u001b[0;34m.\u001b[0m\u001b[0m_variable_creation_fn\u001b[0m \u001b[0;32mis\u001b[0m \u001b[0;32mnot\u001b[0m \u001b[0;32mNone\u001b[0m\u001b[0;34m:\u001b[0m\u001b[0;34m\u001b[0m\u001b[0;34m\u001b[0m\u001b[0m\n\u001b[1;32m    914\u001b[0m       \u001b[0;31m# Release the lock early so that multiple threads can perform the call\u001b[0m\u001b[0;34m\u001b[0m\u001b[0;34m\u001b[0m\u001b[0;34m\u001b[0m\u001b[0m\n",
            "\u001b[0;32m/usr/local/lib/python3.8/dist-packages/tensorflow/python/eager/polymorphic_function/tracing_compiler.py\u001b[0m in \u001b[0;36m__call__\u001b[0;34m(self, *args, **kwargs)\u001b[0m\n\u001b[1;32m    132\u001b[0m       (concrete_function,\n\u001b[1;32m    133\u001b[0m        filtered_flat_args) = self._maybe_define_function(args, kwargs)\n\u001b[0;32m--> 134\u001b[0;31m     return concrete_function._call_flat(\n\u001b[0m\u001b[1;32m    135\u001b[0m         filtered_flat_args, captured_inputs=concrete_function.captured_inputs)  # pylint: disable=protected-access\n\u001b[1;32m    136\u001b[0m \u001b[0;34m\u001b[0m\u001b[0m\n",
            "\u001b[0;32m/usr/local/lib/python3.8/dist-packages/tensorflow/python/eager/polymorphic_function/monomorphic_function.py\u001b[0m in \u001b[0;36m_call_flat\u001b[0;34m(self, args, captured_inputs, cancellation_manager)\u001b[0m\n\u001b[1;32m   1743\u001b[0m         and executing_eagerly):\n\u001b[1;32m   1744\u001b[0m       \u001b[0;31m# No tape is watching; skip to running the function.\u001b[0m\u001b[0;34m\u001b[0m\u001b[0;34m\u001b[0m\u001b[0;34m\u001b[0m\u001b[0m\n\u001b[0;32m-> 1745\u001b[0;31m       return self._build_call_outputs(self._inference_function.call(\n\u001b[0m\u001b[1;32m   1746\u001b[0m           ctx, args, cancellation_manager=cancellation_manager))\n\u001b[1;32m   1747\u001b[0m     forward_backward = self._select_forward_and_backward_functions(\n",
            "\u001b[0;32m/usr/local/lib/python3.8/dist-packages/tensorflow/python/eager/polymorphic_function/monomorphic_function.py\u001b[0m in \u001b[0;36mcall\u001b[0;34m(self, ctx, args, cancellation_manager)\u001b[0m\n\u001b[1;32m    376\u001b[0m       \u001b[0;32mwith\u001b[0m \u001b[0m_InterpolateFunctionError\u001b[0m\u001b[0;34m(\u001b[0m\u001b[0mself\u001b[0m\u001b[0;34m)\u001b[0m\u001b[0;34m:\u001b[0m\u001b[0;34m\u001b[0m\u001b[0;34m\u001b[0m\u001b[0m\n\u001b[1;32m    377\u001b[0m         \u001b[0;32mif\u001b[0m \u001b[0mcancellation_manager\u001b[0m \u001b[0;32mis\u001b[0m \u001b[0;32mNone\u001b[0m\u001b[0;34m:\u001b[0m\u001b[0;34m\u001b[0m\u001b[0;34m\u001b[0m\u001b[0m\n\u001b[0;32m--> 378\u001b[0;31m           outputs = execute.execute(\n\u001b[0m\u001b[1;32m    379\u001b[0m               \u001b[0mstr\u001b[0m\u001b[0;34m(\u001b[0m\u001b[0mself\u001b[0m\u001b[0;34m.\u001b[0m\u001b[0msignature\u001b[0m\u001b[0;34m.\u001b[0m\u001b[0mname\u001b[0m\u001b[0;34m)\u001b[0m\u001b[0;34m,\u001b[0m\u001b[0;34m\u001b[0m\u001b[0;34m\u001b[0m\u001b[0m\n\u001b[1;32m    380\u001b[0m               \u001b[0mnum_outputs\u001b[0m\u001b[0;34m=\u001b[0m\u001b[0mself\u001b[0m\u001b[0;34m.\u001b[0m\u001b[0m_num_outputs\u001b[0m\u001b[0;34m,\u001b[0m\u001b[0;34m\u001b[0m\u001b[0;34m\u001b[0m\u001b[0m\n",
            "\u001b[0;32m/usr/local/lib/python3.8/dist-packages/tensorflow/python/eager/execute.py\u001b[0m in \u001b[0;36mquick_execute\u001b[0;34m(op_name, num_outputs, inputs, attrs, ctx, name)\u001b[0m\n\u001b[1;32m     50\u001b[0m   \u001b[0;32mtry\u001b[0m\u001b[0;34m:\u001b[0m\u001b[0;34m\u001b[0m\u001b[0;34m\u001b[0m\u001b[0m\n\u001b[1;32m     51\u001b[0m     \u001b[0mctx\u001b[0m\u001b[0;34m.\u001b[0m\u001b[0mensure_initialized\u001b[0m\u001b[0;34m(\u001b[0m\u001b[0;34m)\u001b[0m\u001b[0;34m\u001b[0m\u001b[0;34m\u001b[0m\u001b[0m\n\u001b[0;32m---> 52\u001b[0;31m     tensors = pywrap_tfe.TFE_Py_Execute(ctx._handle, device_name, op_name,\n\u001b[0m\u001b[1;32m     53\u001b[0m                                         inputs, attrs, num_outputs)\n\u001b[1;32m     54\u001b[0m   \u001b[0;32mexcept\u001b[0m \u001b[0mcore\u001b[0m\u001b[0;34m.\u001b[0m\u001b[0m_NotOkStatusException\u001b[0m \u001b[0;32mas\u001b[0m \u001b[0me\u001b[0m\u001b[0;34m:\u001b[0m\u001b[0;34m\u001b[0m\u001b[0;34m\u001b[0m\u001b[0m\n",
            "\u001b[0;31mKeyboardInterrupt\u001b[0m: "
          ]
        }
      ]
    },
    {
      "cell_type": "code",
      "source": [
        "%load_ext tensorboard"
      ],
      "metadata": {
        "id": "V83NSo8bkZkA"
      },
      "execution_count": null,
      "outputs": []
    },
    {
      "cell_type": "code",
      "source": [
        "%tensorboard --logdir logs/fit"
      ],
      "metadata": {
        "id": "JzIkiRCnkwmm"
      },
      "execution_count": null,
      "outputs": []
    },
    {
      "cell_type": "code",
      "source": [
        "models = [compiled_tcn(return_sequences=False,\n",
        "                    num_feat=x_train.shape[2],\n",
        "                    num_classes=len(classes),\n",
        "                    nb_filters=128,\n",
        "                    kernel_size=9,\n",
        "                    dilations=[2 ** i for i in range(7)],\n",
        "                    nb_stacks=1,\n",
        "                    dropout_rate=0.3,\n",
        "                    use_batch_norm=False,\n",
        "                    max_len=x_train[0:1].shape[1],\n",
        "                    use_skip_connections=True,\n",
        "                    use_layer_norm=True,\n",
        "                    opt='adam') for x in range(4)]"
      ],
      "metadata": {
        "colab": {
          "base_uri": "https://localhost:8080/"
        },
        "id": "4olLNNAYnIPl",
        "outputId": "993d9cc4-be00-4daf-f4cf-3361aba6a0bd"
      },
      "execution_count": null,
      "outputs": [
        {
          "output_type": "stream",
          "name": "stdout",
          "text": [
            "x.shape= (None, 128)\n",
            "model.x = (None, 58, 1)\n",
            "model.y = (None, 8)\n"
          ]
        },
        {
          "output_type": "stream",
          "name": "stderr",
          "text": [
            "/usr/local/lib/python3.8/dist-packages/keras/optimizers/optimizer_v2/adam.py:110: UserWarning: The `lr` argument is deprecated, use `learning_rate` instead.\n",
            "  super(Adam, self).__init__(name, **kwargs)\n"
          ]
        },
        {
          "output_type": "stream",
          "name": "stdout",
          "text": [
            "x.shape= (None, 128)\n",
            "model.x = (None, 58, 1)\n",
            "model.y = (None, 8)\n",
            "x.shape= (None, 128)\n",
            "model.x = (None, 58, 1)\n",
            "model.y = (None, 8)\n",
            "x.shape= (None, 128)\n",
            "model.x = (None, 58, 1)\n",
            "model.y = (None, 8)\n"
          ]
        }
      ]
    },
    {
      "cell_type": "code",
      "source": [
        "def mfcc_from_wav(filepath):\n",
        "  data, sr = librosa.load(filepath)\n",
        "  mfcc = np.mean(librosa.feature.mfcc(y=data, sr=sr,\n",
        "                                              n_mfcc=58).T, axis=0)\n",
        "  return scaler.transform([mfcc])"
      ],
      "metadata": {
        "id": "F-qaCihAme2J"
      },
      "execution_count": null,
      "outputs": []
    },
    {
      "cell_type": "code",
      "source": [
        "probs = new_model.predict([mfcc_from_wav(\"wav.wav\")])[0]\n",
        "np.argmax(probs)"
      ],
      "metadata": {
        "colab": {
          "base_uri": "https://localhost:8080/"
        },
        "id": "ILbbZacdphdG",
        "outputId": "e03a1dc3-30f8-449a-c2fb-e463608c817a"
      },
      "execution_count": null,
      "outputs": [
        {
          "output_type": "stream",
          "name": "stdout",
          "text": [
            "1/1 [==============================] - 0s 29ms/step\n"
          ]
        },
        {
          "output_type": "execute_result",
          "data": {
            "text/plain": [
              "4"
            ]
          },
          "metadata": {},
          "execution_count": 39
        }
      ]
    },
    {
      "cell_type": "code",
      "source": [
        "!unzip ckpt.zip"
      ],
      "metadata": {
        "id": "Q4srIJH2S--U"
      },
      "execution_count": null,
      "outputs": []
    },
    {
      "cell_type": "code",
      "source": [
        "!tensorboard dev upload --logdir logs/fit"
      ],
      "metadata": {
        "id": "C5Qh7RpDTB6T"
      },
      "execution_count": null,
      "outputs": []
    },
    {
      "cell_type": "code",
      "source": [
        "for i, model in enumerate(models):\n",
        "  model.load_weights(f\"v{i+1}/model.ckpt\")\n",
        "  model.evaluate(x_test, y_test)"
      ],
      "metadata": {
        "colab": {
          "base_uri": "https://localhost:8080/"
        },
        "id": "j0mL3g-2Z88y",
        "outputId": "80f8c9f5-2f24-42d4-e8ed-90d7a8bea52f"
      },
      "execution_count": null,
      "outputs": [
        {
          "output_type": "stream",
          "name": "stdout",
          "text": [
            "533/533 [==============================] - 122s 226ms/step - loss: 0.2334 - accuracy: 0.9198\n",
            "533/533 [==============================] - 118s 218ms/step - loss: 0.2136 - accuracy: 0.9281\n",
            "533/533 [==============================] - 120s 221ms/step - loss: 0.2000 - accuracy: 0.9352\n",
            "533/533 [==============================] - 119s 219ms/step - loss: 0.2017 - accuracy: 0.9366\n"
          ]
        }
      ]
    },
    {
      "cell_type": "code",
      "source": [
        "model = models[2]"
      ],
      "metadata": {
        "id": "1IcHrN_IdEBZ"
      },
      "execution_count": null,
      "outputs": []
    },
    {
      "cell_type": "code",
      "source": [
        "model.evaluate(x_test, y_test)"
      ],
      "metadata": {
        "colab": {
          "base_uri": "https://localhost:8080/",
          "height": 328
        },
        "id": "oslJ0VkDSOJC",
        "outputId": "f730f219-1a40-4780-a250-417de2f81335"
      },
      "execution_count": null,
      "outputs": [
        {
          "output_type": "stream",
          "name": "stdout",
          "text": [
            " 39/533 [=>............................] - ETA: 1:42 - loss: 0.1982 - accuracy: 0.9295"
          ]
        },
        {
          "output_type": "error",
          "ename": "KeyboardInterrupt",
          "evalue": "ignored",
          "traceback": [
            "\u001b[0;31m---------------------------------------------------------------------------\u001b[0m",
            "\u001b[0;31mKeyboardInterrupt\u001b[0m                         Traceback (most recent call last)",
            "\u001b[0;32m<ipython-input-36-113a54cbdef7>\u001b[0m in \u001b[0;36m<module>\u001b[0;34m\u001b[0m\n\u001b[0;32m----> 1\u001b[0;31m \u001b[0mmodel\u001b[0m\u001b[0;34m.\u001b[0m\u001b[0mevaluate\u001b[0m\u001b[0;34m(\u001b[0m\u001b[0mx_test\u001b[0m\u001b[0;34m,\u001b[0m \u001b[0my_test\u001b[0m\u001b[0;34m)\u001b[0m\u001b[0;34m\u001b[0m\u001b[0;34m\u001b[0m\u001b[0m\n\u001b[0m",
            "\u001b[0;32m/usr/local/lib/python3.8/dist-packages/keras/utils/traceback_utils.py\u001b[0m in \u001b[0;36merror_handler\u001b[0;34m(*args, **kwargs)\u001b[0m\n\u001b[1;32m     62\u001b[0m     \u001b[0mfiltered_tb\u001b[0m \u001b[0;34m=\u001b[0m \u001b[0;32mNone\u001b[0m\u001b[0;34m\u001b[0m\u001b[0;34m\u001b[0m\u001b[0m\n\u001b[1;32m     63\u001b[0m     \u001b[0;32mtry\u001b[0m\u001b[0;34m:\u001b[0m\u001b[0;34m\u001b[0m\u001b[0;34m\u001b[0m\u001b[0m\n\u001b[0;32m---> 64\u001b[0;31m       \u001b[0;32mreturn\u001b[0m \u001b[0mfn\u001b[0m\u001b[0;34m(\u001b[0m\u001b[0;34m*\u001b[0m\u001b[0margs\u001b[0m\u001b[0;34m,\u001b[0m \u001b[0;34m**\u001b[0m\u001b[0mkwargs\u001b[0m\u001b[0;34m)\u001b[0m\u001b[0;34m\u001b[0m\u001b[0;34m\u001b[0m\u001b[0m\n\u001b[0m\u001b[1;32m     65\u001b[0m     \u001b[0;32mexcept\u001b[0m \u001b[0mException\u001b[0m \u001b[0;32mas\u001b[0m \u001b[0me\u001b[0m\u001b[0;34m:\u001b[0m  \u001b[0;31m# pylint: disable=broad-except\u001b[0m\u001b[0;34m\u001b[0m\u001b[0;34m\u001b[0m\u001b[0m\n\u001b[1;32m     66\u001b[0m       \u001b[0mfiltered_tb\u001b[0m \u001b[0;34m=\u001b[0m \u001b[0m_process_traceback_frames\u001b[0m\u001b[0;34m(\u001b[0m\u001b[0me\u001b[0m\u001b[0;34m.\u001b[0m\u001b[0m__traceback__\u001b[0m\u001b[0;34m)\u001b[0m\u001b[0;34m\u001b[0m\u001b[0;34m\u001b[0m\u001b[0m\n",
            "\u001b[0;32m/usr/local/lib/python3.8/dist-packages/keras/engine/training.py\u001b[0m in \u001b[0;36mevaluate\u001b[0;34m(self, x, y, batch_size, verbose, sample_weight, steps, callbacks, max_queue_size, workers, use_multiprocessing, return_dict, **kwargs)\u001b[0m\n\u001b[1;32m   1754\u001b[0m             \u001b[0;32mwith\u001b[0m \u001b[0mtf\u001b[0m\u001b[0;34m.\u001b[0m\u001b[0mprofiler\u001b[0m\u001b[0;34m.\u001b[0m\u001b[0mexperimental\u001b[0m\u001b[0;34m.\u001b[0m\u001b[0mTrace\u001b[0m\u001b[0;34m(\u001b[0m\u001b[0;34m'test'\u001b[0m\u001b[0;34m,\u001b[0m \u001b[0mstep_num\u001b[0m\u001b[0;34m=\u001b[0m\u001b[0mstep\u001b[0m\u001b[0;34m,\u001b[0m \u001b[0m_r\u001b[0m\u001b[0;34m=\u001b[0m\u001b[0;36m1\u001b[0m\u001b[0;34m)\u001b[0m\u001b[0;34m:\u001b[0m\u001b[0;34m\u001b[0m\u001b[0;34m\u001b[0m\u001b[0m\n\u001b[1;32m   1755\u001b[0m               \u001b[0mcallbacks\u001b[0m\u001b[0;34m.\u001b[0m\u001b[0mon_test_batch_begin\u001b[0m\u001b[0;34m(\u001b[0m\u001b[0mstep\u001b[0m\u001b[0;34m)\u001b[0m\u001b[0;34m\u001b[0m\u001b[0;34m\u001b[0m\u001b[0m\n\u001b[0;32m-> 1756\u001b[0;31m               \u001b[0mtmp_logs\u001b[0m \u001b[0;34m=\u001b[0m \u001b[0mself\u001b[0m\u001b[0;34m.\u001b[0m\u001b[0mtest_function\u001b[0m\u001b[0;34m(\u001b[0m\u001b[0miterator\u001b[0m\u001b[0;34m)\u001b[0m\u001b[0;34m\u001b[0m\u001b[0;34m\u001b[0m\u001b[0m\n\u001b[0m\u001b[1;32m   1757\u001b[0m               \u001b[0;32mif\u001b[0m \u001b[0mdata_handler\u001b[0m\u001b[0;34m.\u001b[0m\u001b[0mshould_sync\u001b[0m\u001b[0;34m:\u001b[0m\u001b[0;34m\u001b[0m\u001b[0;34m\u001b[0m\u001b[0m\n\u001b[1;32m   1758\u001b[0m                 \u001b[0mcontext\u001b[0m\u001b[0;34m.\u001b[0m\u001b[0masync_wait\u001b[0m\u001b[0;34m(\u001b[0m\u001b[0;34m)\u001b[0m\u001b[0;34m\u001b[0m\u001b[0;34m\u001b[0m\u001b[0m\n",
            "\u001b[0;32m/usr/local/lib/python3.8/dist-packages/tensorflow/python/util/traceback_utils.py\u001b[0m in \u001b[0;36merror_handler\u001b[0;34m(*args, **kwargs)\u001b[0m\n\u001b[1;32m    148\u001b[0m     \u001b[0mfiltered_tb\u001b[0m \u001b[0;34m=\u001b[0m \u001b[0;32mNone\u001b[0m\u001b[0;34m\u001b[0m\u001b[0;34m\u001b[0m\u001b[0m\n\u001b[1;32m    149\u001b[0m     \u001b[0;32mtry\u001b[0m\u001b[0;34m:\u001b[0m\u001b[0;34m\u001b[0m\u001b[0;34m\u001b[0m\u001b[0m\n\u001b[0;32m--> 150\u001b[0;31m       \u001b[0;32mreturn\u001b[0m \u001b[0mfn\u001b[0m\u001b[0;34m(\u001b[0m\u001b[0;34m*\u001b[0m\u001b[0margs\u001b[0m\u001b[0;34m,\u001b[0m \u001b[0;34m**\u001b[0m\u001b[0mkwargs\u001b[0m\u001b[0;34m)\u001b[0m\u001b[0;34m\u001b[0m\u001b[0;34m\u001b[0m\u001b[0m\n\u001b[0m\u001b[1;32m    151\u001b[0m     \u001b[0;32mexcept\u001b[0m \u001b[0mException\u001b[0m \u001b[0;32mas\u001b[0m \u001b[0me\u001b[0m\u001b[0;34m:\u001b[0m\u001b[0;34m\u001b[0m\u001b[0;34m\u001b[0m\u001b[0m\n\u001b[1;32m    152\u001b[0m       \u001b[0mfiltered_tb\u001b[0m \u001b[0;34m=\u001b[0m \u001b[0m_process_traceback_frames\u001b[0m\u001b[0;34m(\u001b[0m\u001b[0me\u001b[0m\u001b[0;34m.\u001b[0m\u001b[0m__traceback__\u001b[0m\u001b[0;34m)\u001b[0m\u001b[0;34m\u001b[0m\u001b[0;34m\u001b[0m\u001b[0m\n",
            "\u001b[0;32m/usr/local/lib/python3.8/dist-packages/tensorflow/python/eager/def_function.py\u001b[0m in \u001b[0;36m__call__\u001b[0;34m(self, *args, **kwds)\u001b[0m\n\u001b[1;32m    913\u001b[0m \u001b[0;34m\u001b[0m\u001b[0m\n\u001b[1;32m    914\u001b[0m       \u001b[0;32mwith\u001b[0m \u001b[0mOptionalXlaContext\u001b[0m\u001b[0;34m(\u001b[0m\u001b[0mself\u001b[0m\u001b[0;34m.\u001b[0m\u001b[0m_jit_compile\u001b[0m\u001b[0;34m)\u001b[0m\u001b[0;34m:\u001b[0m\u001b[0;34m\u001b[0m\u001b[0;34m\u001b[0m\u001b[0m\n\u001b[0;32m--> 915\u001b[0;31m         \u001b[0mresult\u001b[0m \u001b[0;34m=\u001b[0m \u001b[0mself\u001b[0m\u001b[0;34m.\u001b[0m\u001b[0m_call\u001b[0m\u001b[0;34m(\u001b[0m\u001b[0;34m*\u001b[0m\u001b[0margs\u001b[0m\u001b[0;34m,\u001b[0m \u001b[0;34m**\u001b[0m\u001b[0mkwds\u001b[0m\u001b[0;34m)\u001b[0m\u001b[0;34m\u001b[0m\u001b[0;34m\u001b[0m\u001b[0m\n\u001b[0m\u001b[1;32m    916\u001b[0m \u001b[0;34m\u001b[0m\u001b[0m\n\u001b[1;32m    917\u001b[0m       \u001b[0mnew_tracing_count\u001b[0m \u001b[0;34m=\u001b[0m \u001b[0mself\u001b[0m\u001b[0;34m.\u001b[0m\u001b[0mexperimental_get_tracing_count\u001b[0m\u001b[0;34m(\u001b[0m\u001b[0;34m)\u001b[0m\u001b[0;34m\u001b[0m\u001b[0;34m\u001b[0m\u001b[0m\n",
            "\u001b[0;32m/usr/local/lib/python3.8/dist-packages/tensorflow/python/eager/def_function.py\u001b[0m in \u001b[0;36m_call\u001b[0;34m(self, *args, **kwds)\u001b[0m\n\u001b[1;32m    945\u001b[0m       \u001b[0;31m# In this case we have created variables on the first call, so we run the\u001b[0m\u001b[0;34m\u001b[0m\u001b[0;34m\u001b[0m\u001b[0;34m\u001b[0m\u001b[0m\n\u001b[1;32m    946\u001b[0m       \u001b[0;31m# defunned version which is guaranteed to never create variables.\u001b[0m\u001b[0;34m\u001b[0m\u001b[0;34m\u001b[0m\u001b[0;34m\u001b[0m\u001b[0m\n\u001b[0;32m--> 947\u001b[0;31m       \u001b[0;32mreturn\u001b[0m \u001b[0mself\u001b[0m\u001b[0;34m.\u001b[0m\u001b[0m_stateless_fn\u001b[0m\u001b[0;34m(\u001b[0m\u001b[0;34m*\u001b[0m\u001b[0margs\u001b[0m\u001b[0;34m,\u001b[0m \u001b[0;34m**\u001b[0m\u001b[0mkwds\u001b[0m\u001b[0;34m)\u001b[0m  \u001b[0;31m# pylint: disable=not-callable\u001b[0m\u001b[0;34m\u001b[0m\u001b[0;34m\u001b[0m\u001b[0m\n\u001b[0m\u001b[1;32m    948\u001b[0m     \u001b[0;32melif\u001b[0m \u001b[0mself\u001b[0m\u001b[0;34m.\u001b[0m\u001b[0m_stateful_fn\u001b[0m \u001b[0;32mis\u001b[0m \u001b[0;32mnot\u001b[0m \u001b[0;32mNone\u001b[0m\u001b[0;34m:\u001b[0m\u001b[0;34m\u001b[0m\u001b[0;34m\u001b[0m\u001b[0m\n\u001b[1;32m    949\u001b[0m       \u001b[0;31m# Release the lock early so that multiple threads can perform the call\u001b[0m\u001b[0;34m\u001b[0m\u001b[0;34m\u001b[0m\u001b[0;34m\u001b[0m\u001b[0m\n",
            "\u001b[0;32m/usr/local/lib/python3.8/dist-packages/tensorflow/python/eager/function.py\u001b[0m in \u001b[0;36m__call__\u001b[0;34m(self, *args, **kwargs)\u001b[0m\n\u001b[1;32m   2451\u001b[0m       (graph_function,\n\u001b[1;32m   2452\u001b[0m        filtered_flat_args) = self._maybe_define_function(args, kwargs)\n\u001b[0;32m-> 2453\u001b[0;31m     return graph_function._call_flat(\n\u001b[0m\u001b[1;32m   2454\u001b[0m         filtered_flat_args, captured_inputs=graph_function.captured_inputs)  # pylint: disable=protected-access\n\u001b[1;32m   2455\u001b[0m \u001b[0;34m\u001b[0m\u001b[0m\n",
            "\u001b[0;32m/usr/local/lib/python3.8/dist-packages/tensorflow/python/eager/function.py\u001b[0m in \u001b[0;36m_call_flat\u001b[0;34m(self, args, captured_inputs, cancellation_manager)\u001b[0m\n\u001b[1;32m   1858\u001b[0m         and executing_eagerly):\n\u001b[1;32m   1859\u001b[0m       \u001b[0;31m# No tape is watching; skip to running the function.\u001b[0m\u001b[0;34m\u001b[0m\u001b[0;34m\u001b[0m\u001b[0;34m\u001b[0m\u001b[0m\n\u001b[0;32m-> 1860\u001b[0;31m       return self._build_call_outputs(self._inference_function.call(\n\u001b[0m\u001b[1;32m   1861\u001b[0m           ctx, args, cancellation_manager=cancellation_manager))\n\u001b[1;32m   1862\u001b[0m     forward_backward = self._select_forward_and_backward_functions(\n",
            "\u001b[0;32m/usr/local/lib/python3.8/dist-packages/tensorflow/python/eager/function.py\u001b[0m in \u001b[0;36mcall\u001b[0;34m(self, ctx, args, cancellation_manager)\u001b[0m\n\u001b[1;32m    495\u001b[0m       \u001b[0;32mwith\u001b[0m \u001b[0m_InterpolateFunctionError\u001b[0m\u001b[0;34m(\u001b[0m\u001b[0mself\u001b[0m\u001b[0;34m)\u001b[0m\u001b[0;34m:\u001b[0m\u001b[0;34m\u001b[0m\u001b[0;34m\u001b[0m\u001b[0m\n\u001b[1;32m    496\u001b[0m         \u001b[0;32mif\u001b[0m \u001b[0mcancellation_manager\u001b[0m \u001b[0;32mis\u001b[0m \u001b[0;32mNone\u001b[0m\u001b[0;34m:\u001b[0m\u001b[0;34m\u001b[0m\u001b[0;34m\u001b[0m\u001b[0m\n\u001b[0;32m--> 497\u001b[0;31m           outputs = execute.execute(\n\u001b[0m\u001b[1;32m    498\u001b[0m               \u001b[0mstr\u001b[0m\u001b[0;34m(\u001b[0m\u001b[0mself\u001b[0m\u001b[0;34m.\u001b[0m\u001b[0msignature\u001b[0m\u001b[0;34m.\u001b[0m\u001b[0mname\u001b[0m\u001b[0;34m)\u001b[0m\u001b[0;34m,\u001b[0m\u001b[0;34m\u001b[0m\u001b[0;34m\u001b[0m\u001b[0m\n\u001b[1;32m    499\u001b[0m               \u001b[0mnum_outputs\u001b[0m\u001b[0;34m=\u001b[0m\u001b[0mself\u001b[0m\u001b[0;34m.\u001b[0m\u001b[0m_num_outputs\u001b[0m\u001b[0;34m,\u001b[0m\u001b[0;34m\u001b[0m\u001b[0;34m\u001b[0m\u001b[0m\n",
            "\u001b[0;32m/usr/local/lib/python3.8/dist-packages/tensorflow/python/eager/execute.py\u001b[0m in \u001b[0;36mquick_execute\u001b[0;34m(op_name, num_outputs, inputs, attrs, ctx, name)\u001b[0m\n\u001b[1;32m     52\u001b[0m   \u001b[0;32mtry\u001b[0m\u001b[0;34m:\u001b[0m\u001b[0;34m\u001b[0m\u001b[0;34m\u001b[0m\u001b[0m\n\u001b[1;32m     53\u001b[0m     \u001b[0mctx\u001b[0m\u001b[0;34m.\u001b[0m\u001b[0mensure_initialized\u001b[0m\u001b[0;34m(\u001b[0m\u001b[0;34m)\u001b[0m\u001b[0;34m\u001b[0m\u001b[0;34m\u001b[0m\u001b[0m\n\u001b[0;32m---> 54\u001b[0;31m     tensors = pywrap_tfe.TFE_Py_Execute(ctx._handle, device_name, op_name,\n\u001b[0m\u001b[1;32m     55\u001b[0m                                         inputs, attrs, num_outputs)\n\u001b[1;32m     56\u001b[0m   \u001b[0;32mexcept\u001b[0m \u001b[0mcore\u001b[0m\u001b[0;34m.\u001b[0m\u001b[0m_NotOkStatusException\u001b[0m \u001b[0;32mas\u001b[0m \u001b[0me\u001b[0m\u001b[0;34m:\u001b[0m\u001b[0;34m\u001b[0m\u001b[0;34m\u001b[0m\u001b[0m\n",
            "\u001b[0;31mKeyboardInterrupt\u001b[0m: "
          ]
        }
      ]
    },
    {
      "cell_type": "code",
      "source": [
        "model.save(\"saved_model_again\")"
      ],
      "metadata": {
        "colab": {
          "base_uri": "https://localhost:8080/"
        },
        "id": "YZ60ItrHSrpB",
        "outputId": "3b5397e4-b3d6-4856-cb31-a7c3008b8a1f"
      },
      "execution_count": null,
      "outputs": [
        {
          "output_type": "stream",
          "name": "stderr",
          "text": [
            "WARNING:absl:Found untraced functions such as residual_block_0_layer_call_fn, residual_block_0_layer_call_and_return_conditional_losses, residual_block_1_layer_call_fn, residual_block_1_layer_call_and_return_conditional_losses, residual_block_2_layer_call_fn while saving (showing 5 of 157). These functions will not be directly callable after loading.\n"
          ]
        }
      ]
    },
    {
      "cell_type": "code",
      "source": [
        "import keras\n",
        "model = keras.models.load_model(\"saved_model\")"
      ],
      "metadata": {
        "id": "vPAWxDI6lO2T"
      },
      "execution_count": null,
      "outputs": []
    },
    {
      "cell_type": "code",
      "source": [
        "model.evaluate(x_test, y_test)"
      ],
      "metadata": {
        "colab": {
          "base_uri": "https://localhost:8080/"
        },
        "id": "brwlYY7sSxZK",
        "outputId": "a6a524d7-5668-4b7f-b1c7-66448443d85f"
      },
      "execution_count": null,
      "outputs": [
        {
          "output_type": "stream",
          "name": "stdout",
          "text": [
            "533/533 [==============================] - 138s 258ms/step - loss: 0.2000 - accuracy: 0.9352\n"
          ]
        },
        {
          "output_type": "execute_result",
          "data": {
            "text/plain": [
              "[0.1999737024307251, 0.9352205395698547]"
            ]
          },
          "metadata": {},
          "execution_count": 32
        }
      ]
    },
    {
      "cell_type": "code",
      "source": [
        "import tensorflow as tf\n",
        "converter = tf.lite.TFLiteConverter.from_keras_model(model)\n",
        "tflite = converter.convert()"
      ],
      "metadata": {
        "colab": {
          "base_uri": "https://localhost:8080/"
        },
        "id": "ZAv0xd3iV3Za",
        "outputId": "fe868d61-a182-4cfb-e613-7ec8ad6ca4db"
      },
      "execution_count": null,
      "outputs": [
        {
          "output_type": "stream",
          "name": "stderr",
          "text": [
            "WARNING:absl:Found untraced functions such as residual_block_0_layer_call_fn, residual_block_0_layer_call_and_return_conditional_losses, residual_block_1_layer_call_fn, residual_block_1_layer_call_and_return_conditional_losses, residual_block_2_layer_call_fn while saving (showing 5 of 157). These functions will not be directly callable after loading.\n"
          ]
        }
      ]
    },
    {
      "cell_type": "code",
      "source": [
        "with open('model.tflite', 'wb') as f:\n",
        "  f.write(tflite)"
      ],
      "metadata": {
        "id": "kygrENQYp6qC"
      },
      "execution_count": null,
      "outputs": []
    },
    {
      "cell_type": "code",
      "source": [
        "!zip -r saved_model.zip saved_model/*"
      ],
      "metadata": {
        "colab": {
          "base_uri": "https://localhost:8080/"
        },
        "id": "kaaGBXL2llbQ",
        "outputId": "e3249f6f-c36d-4213-9340-543fc59856c2"
      },
      "execution_count": null,
      "outputs": [
        {
          "output_type": "stream",
          "name": "stdout",
          "text": [
            "  adding: saved_model/assets/ (stored 0%)\n",
            "  adding: saved_model/keras_metadata.pb (deflated 93%)\n",
            "  adding: saved_model/saved_model.pb (deflated 93%)\n",
            "  adding: saved_model/variables/ (stored 0%)\n",
            "  adding: saved_model/variables/variables.index (deflated 80%)\n",
            "  adding: saved_model/variables/variables.data-00000-of-00001 (deflated 32%)\n"
          ]
        }
      ]
    },
    {
      "cell_type": "code",
      "source": [
        "!rm -r saved_model"
      ],
      "metadata": {
        "id": "bA81LDROmPBt"
      },
      "execution_count": null,
      "outputs": []
    },
    {
      "cell_type": "code",
      "source": [
        "!unzip saved_model"
      ],
      "metadata": {
        "id": "OijEp1lilxtK"
      },
      "execution_count": null,
      "outputs": []
    },
    {
      "cell_type": "code",
      "source": [
        "predictions = model.predict(x_test)"
      ],
      "metadata": {
        "colab": {
          "base_uri": "https://localhost:8080/"
        },
        "id": "2usecHH4dHqK",
        "outputId": "7d11771f-36ec-4c53-c7f3-e6eccfc0840b"
      },
      "execution_count": null,
      "outputs": [
        {
          "output_type": "stream",
          "name": "stdout",
          "text": [
            "533/533 [==============================] - 125s 234ms/step\n"
          ]
        }
      ]
    },
    {
      "cell_type": "code",
      "source": [
        "y_pred = [id_to_class[np.argmax(probs)] for probs in predictions]\n",
        "y_true = [id_to_class[test] for test in y_test]"
      ],
      "metadata": {
        "id": "Dq0tv1GDeFgu"
      },
      "execution_count": null,
      "outputs": []
    },
    {
      "cell_type": "code",
      "source": [
        "y_pred = [np.argmax(probs) for probs in predictions]\n",
        "y_true = [test for test in y_test]"
      ],
      "metadata": {
        "id": "OmTSO6Mfhnct"
      },
      "execution_count": null,
      "outputs": []
    },
    {
      "cell_type": "code",
      "source": [
        "from sklearn.metrics import confusion_matrix, ConfusionMatrixDisplay\n",
        "import matplotlib.pyplot as plt\n",
        "labels = classes\n",
        "cm = confusion_matrix(y_true, y_pred)\n",
        "cm = cm / cm.astype(float).sum(axis=1)\n",
        "disp = ConfusionMatrixDisplay(confusion_matrix=cm, display_labels=labels)\n",
        "fig, ax = plt.subplots(figsize=(8,8))\n",
        "disp.plot(cmap=plt.cm.Greens, ax = ax)\n",
        "plt.show()\n",
        "disp.figure_.savefig('confusion_matrix.png')"
      ],
      "metadata": {
        "colab": {
          "base_uri": "https://localhost:8080/",
          "height": 472
        },
        "id": "GzD5nqqjRMtA",
        "outputId": "4d4c6878-18e5-4923-fc63-b3fd41512d48"
      },
      "execution_count": null,
      "outputs": [
        {
          "output_type": "display_data",
          "data": {
            "text/plain": [
              "<Figure size 576x576 with 2 Axes>"
            ],
            "image/png": "[encoded data removed]"
          },
          "metadata": {
            "needs_background": "light"
          }
        }
      ]
    },
    {
      "cell_type": "markdown",
      "source": [],
      "metadata": {
        "id": "1K_u-C6bHsQa"
      }
    }
  ],
  "metadata": {
    "colab": {
      "provenance": [],
      "include_colab_link": true
    },
    "gpuClass": "standard",
    "kernelspec": {
      "display_name": "Python 3",
      "name": "python3"
    },
    "language_info": {
      "name": "python"
    }
  },
  "nbformat": 4,
  "nbformat_minor": 0
}